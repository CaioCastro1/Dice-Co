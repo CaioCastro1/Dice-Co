{
 "cells": [
  {
   "cell_type": "code",
   "execution_count": 1,
   "metadata": {},
   "outputs": [],
   "source": [
    "import http.client\n",
    "\n",
    "conn = http.client.HTTPSConnection(\"treinamento-ndados.s3.sa-east-1.amazonaws.com\")\n",
    "\n",
    "headersList = {\n",
    " \"Accept\": \"*/*\",\n",
    " \"User-Agent\": \"Thunder Client (https://www.thunderclient.com)\" \n",
    "}\n",
    "\n",
    "payload = \"\"\n",
    "\n",
    "conn.request(\"GET\", \"/boardgames_information_raw.json\", payload, headersList)\n",
    "response = conn.getresponse()\n",
    "result = response.read().decode(\"utf-8\")"
   ]
  },
  {
   "cell_type": "code",
   "execution_count": 3,
   "metadata": {},
   "outputs": [
    {
     "data": {
      "text/html": [
       "<div>\n",
       "<style scoped>\n",
       "    .dataframe tbody tr th:only-of-type {\n",
       "        vertical-align: middle;\n",
       "    }\n",
       "\n",
       "    .dataframe tbody tr th {\n",
       "        vertical-align: top;\n",
       "    }\n",
       "\n",
       "    .dataframe thead th {\n",
       "        text-align: right;\n",
       "    }\n",
       "</style>\n",
       "<table border=\"1\" class=\"dataframe\">\n",
       "  <thead>\n",
       "    <tr style=\"text-align: right;\">\n",
       "      <th></th>\n",
       "      <th>objectid</th>\n",
       "      <th>name</th>\n",
       "      <th>yearpublished</th>\n",
       "      <th>sortindex</th>\n",
       "      <th>minplayers</th>\n",
       "      <th>maxplayers</th>\n",
       "      <th>minplaytime</th>\n",
       "      <th>maxplaytime</th>\n",
       "      <th>minage</th>\n",
       "    </tr>\n",
       "  </thead>\n",
       "  <tbody>\n",
       "    <tr>\n",
       "      <th>279</th>\n",
       "      <td>172</td>\n",
       "      <td>\\u0e1a\\u0e49\\u0e32\\u0e19\\u0e19\\u0e35\\u0e49\\u0e...</td>\n",
       "      <td>1997</td>\n",
       "      <td>280</td>\n",
       "      <td>3</td>\n",
       "      <td>6</td>\n",
       "      <td>30</td>\n",
       "      <td>30</td>\n",
       "      <td>10</td>\n",
       "    </tr>\n",
       "  </tbody>\n",
       "</table>\n",
       "</div>"
      ],
      "text/plain": [
       "     objectid                                               name  \\\n",
       "279       172  \\u0e1a\\u0e49\\u0e32\\u0e19\\u0e19\\u0e35\\u0e49\\u0e...   \n",
       "\n",
       "     yearpublished  sortindex  minplayers  maxplayers  minplaytime  \\\n",
       "279           1997        280           3           6           30   \n",
       "\n",
       "     maxplaytime  minage  \n",
       "279           30      10  "
      ]
     },
     "execution_count": 3,
     "metadata": {},
     "output_type": "execute_result"
    }
   ],
   "source": [
    "import json\n",
    "import pandas as pd\n",
    "from pandas import json_normalize\n",
    "\n",
    "json_file = json.loads(result)\n",
    "df = json_normalize(json_file)\n",
    "df"
   ]
  },
  {
   "cell_type": "code",
   "execution_count": 8,
   "metadata": {},
   "outputs": [],
   "source": [
    "file_name = 'primeira_api.xlsx'\n",
    "df.to_excel(file_name)"
   ]
  }
 ],
 "metadata": {
  "kernelspec": {
   "display_name": "Python 3",
   "language": "python",
   "name": "python3"
  },
  "language_info": {
   "codemirror_mode": {
    "name": "ipython",
    "version": 3
   },
   "file_extension": ".py",
   "mimetype": "text/x-python",
   "name": "python",
   "nbconvert_exporter": "python",
   "pygments_lexer": "ipython3",
   "version": "3.10.2"
  }
 },
 "nbformat": 4,
 "nbformat_minor": 2
}
