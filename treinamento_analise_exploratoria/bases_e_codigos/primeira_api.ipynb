{
 "cells": [
  {
   "cell_type": "code",
   "execution_count": 3,
   "metadata": {},
   "outputs": [],
   "source": [
    "import http.client\n",
    "\n",
    "conn = http.client.HTTPSConnection(\"treinamento-ndados.s3.sa-east-1.amazonaws.com\")\n",
    "\n",
    "headersList = {\n",
    " \"Accept\": \"*/*\",\n",
    " \"User-Agent\": \"Thunder Client (https://www.thunderclient.com)\" \n",
    "}\n",
    "\n",
    "payload = \"\"\n",
    "\n",
    "conn.request(\"GET\", \"/boardgames_information_raw.json\", payload, headersList)\n",
    "response = conn.getresponse()\n",
    "result = response.read().decode(\"utf-8\")"
   ]
  },
  {
   "cell_type": "code",
   "execution_count": 4,
   "metadata": {},
   "outputs": [
    {
     "name": "stdout",
     "output_type": "stream",
     "text": [
      "   object_id                                           name  yearpublished  \\\n",
      "0     174430                                     Gloomhaven           2017   \n",
      "1     161936                      Pandemic Legacy  Season 1           2015   \n",
      "2     167791                              Terraforming Mars           2016   \n",
      "3     182028  Through the Ages  A New Story of Civilization           2015   \n",
      "4     224517                              Brass  Birmingham           2018   \n",
      "\n",
      "   sortindex  minplayers  maxplayers  minplaytime  maxplaytime  minage  \n",
      "0          1           1           4           60          120      12  \n",
      "1          2           2           4           60           60      13  \n",
      "2          3           1           5          120          120      12  \n",
      "3          4           2           4          120          120      14  \n",
      "4          5           2           4           60          120      14  \n"
     ]
    }
   ],
   "source": [
    "import json\n",
    "import pandas as pd\n",
    "import pandas as pd\n",
    "import json\n",
    "\n",
    "json_file = json.loads(result)\n",
    "\n",
    "df = pd.read_json(json.dumps(json_file))\n",
    "\n",
    "print(df.head())\n"
   ]
  },
  {
   "cell_type": "code",
   "execution_count": 5,
   "metadata": {},
   "outputs": [],
   "source": [
    "file_name = 'primeira_api.xlsx'\n",
    "df.to_excel(file_name)"
   ]
  }
 ],
 "metadata": {
  "kernelspec": {
   "display_name": "Python 3",
   "language": "python",
   "name": "python3"
  },
  "language_info": {
   "codemirror_mode": {
    "name": "ipython",
    "version": 3
   },
   "file_extension": ".py",
   "mimetype": "text/x-python",
   "name": "python",
   "nbconvert_exporter": "python",
   "pygments_lexer": "ipython3",
   "version": "3.11.4"
  }
 },
 "nbformat": 4,
 "nbformat_minor": 2
}
