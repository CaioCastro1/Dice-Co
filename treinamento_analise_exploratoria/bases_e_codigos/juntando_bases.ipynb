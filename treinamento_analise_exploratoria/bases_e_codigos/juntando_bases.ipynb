{
 "cells": [
  {
   "cell_type": "code",
   "execution_count": 27,
   "metadata": {},
   "outputs": [],
   "source": [
    "import pandas as pd\n",
    "\n",
    "api_1 = pd.read_excel('primeira_api.xlsx')\n",
    "api_2 = pd.read_excel('segunda_api.xlsx')\n",
    "api_3 = pd.read_excel('terceira_api.xlsx')"
   ]
  },
  {
   "cell_type": "code",
   "execution_count": null,
   "metadata": {},
   "outputs": [],
   "source": [
    "api"
   ]
  },
  {
   "cell_type": "code",
   "execution_count": 28,
   "metadata": {},
   "outputs": [],
   "source": [
    "api_1.drop(columns = 'Unnamed: 0', inplace = True)\n",
    "api_2.drop(columns = 'Unnamed: 0', inplace = True)\n",
    "api_3.drop(columns = 'Unnamed: 0', inplace = True)"
   ]
  },
  {
   "cell_type": "code",
   "execution_count": 47,
   "metadata": {},
   "outputs": [
    {
     "name": "stdout",
     "output_type": "stream",
     "text": [
      "       objectid  min_community  max_community  totalvotes   playerage  \\\n",
      "0        174430            3.0            4.0       827.0          14   \n",
      "1        161936            4.0            4.0       549.0          12   \n",
      "2        167791            3.0            4.0      1252.0          12   \n",
      "3        182028            3.0            4.0       436.0          14   \n",
      "4        224517            3.0            4.0       242.0          14   \n",
      "...         ...            ...            ...         ...         ...   \n",
      "19995      5154            NaN            NaN         0.0  (no votes)   \n",
      "19996      5158            NaN            NaN         0.0  (no votes)   \n",
      "19997      5159            NaN            NaN         0.0  (no votes)   \n",
      "19998      5160            NaN            NaN         0.0  (no votes)   \n",
      "19999      5163            2.0            NaN         2.0          10   \n",
      "\n",
      "       languagedependence  usersrated  average  baverage   stddev  ...  \\\n",
      "0                       4     31254.0  8.85292   8.58424  1.59819  ...   \n",
      "1                       4     34729.0  8.62499   8.47159  1.59463  ...   \n",
      "2                       3     48339.0  8.42299   8.26781  1.36938  ...   \n",
      "3                       4     18269.0  8.49419   8.23513  1.49542  ...   \n",
      "4                       1     10070.0  8.62031   8.20459  1.22876  ...   \n",
      "...                   ...         ...      ...       ...      ...  ...   \n",
      "19995                   0         3.0  6.00000   0.00000  2.94392  ...   \n",
      "19996                   0         1.0  4.00000   0.00000  0.00000  ...   \n",
      "19997                   0         1.0  6.00000   0.00000  0.00000  ...   \n",
      "19998                   0        20.0  5.77500   0.00000  1.76405  ...   \n",
      "19999                   1         5.0  4.60000   0.00000  2.33238  ...   \n",
      "\n",
      "       numtrading  numwanting  numcomments  siteviews  numplays  \\\n",
      "0             313        1365         5972    8933078    230213   \n",
      "1             272         771         5477    2971746    196621   \n",
      "2             277        2068         7274    4724387    245997   \n",
      "3             280        1049         2660    2448074     54284   \n",
      "4              37        1077         1702     894621     23336   \n",
      "...           ...         ...          ...        ...       ...   \n",
      "19995           0           0            2       3569         2   \n",
      "19996           0           0            2       2752         0   \n",
      "19997           0           0            4       8073        21   \n",
      "19998           3           1           13       8601        18   \n",
      "19999           1           1            4       3806         0   \n",
      "\n",
      "       numplays_month  news  blogs  weblink  podcast  \n",
      "0                3478     7    471       31      139  \n",
      "1                1090     9    597       69      164  \n",
      "2                4380    14   1158       60      148  \n",
      "3                 511     5    185       30       42  \n",
      "4                 815     3    124       13       21  \n",
      "...               ...   ...    ...      ...      ...  \n",
      "19995               0     0      0        0        0  \n",
      "19996               0     0      0        0        0  \n",
      "19997               0     0      0        0        0  \n",
      "19998               0     0      0        0        0  \n",
      "19999               0     0      0        0        0  \n",
      "\n",
      "[20000 rows x 23 columns]\n"
     ]
    }
   ],
   "source": [
    "api_1.drop_duplicates(inplace = True)\n",
    "api_2.drop_duplicates(inplace = True)\n",
    "api_3.drop_duplicates(inplace = True)\n",
    "print(api_3)"
   ]
  },
  {
   "cell_type": "code",
   "execution_count": 39,
   "metadata": {},
   "outputs": [
    {
     "name": "stdout",
     "output_type": "stream",
     "text": [
      "     objectid    name  yearpublished  sortindex  minplayers  maxplayers  \\\n",
      "5448  274230P  Planes           2014       5449           2           4   \n",
      "5449  274230P  Planes           2014       5449           2           4   \n",
      "5450  274230P  Planes           2014       5449           2           4   \n",
      "5451  274230P  Planes           2014       5449           2           4   \n",
      "\n",
      "      minplaytime  maxplaytime  minage       label  ...  numtrading  \\\n",
      "5448           30           30      14  Board Game  ...         100   \n",
      "5449           30           30      14  Board Game  ...           3   \n",
      "5450           30           30      14  Board Game  ...         100   \n",
      "5451           30           30      14  Board Game  ...           3   \n",
      "\n",
      "      numwanting  numcomments  siteviews  numplays  numplays_month  news  \\\n",
      "5448          24          203      96911      1420               2     4   \n",
      "5449           8           15       5435       106               9     0   \n",
      "5450          24          203      96911      1420               2     4   \n",
      "5451           8           15       5435       106               9     0   \n",
      "\n",
      "      blogs  weblink podcast  \n",
      "5448     18        8       5  \n",
      "5449      0        1       0  \n",
      "5450     18        8       5  \n",
      "5451      0        1       0  \n",
      "\n",
      "[4 rows x 51 columns]\n"
     ]
    }
   ],
   "source": [
    "\n",
    "\n",
    "df = pd.merge(api_1, api_2, on = 'objectid')\n",
    "df = pd.merge(df, api_3, on = 'objectid')\n",
    "df\n",
    "\n",
    "\n",
    "\n",
    "print(df[df['objectid'] == \"274230P\"])"
   ]
  },
  {
   "cell_type": "code",
   "execution_count": 10,
   "metadata": {},
   "outputs": [],
   "source": [
    "file_name = 'base_oficial.xlsx'\n",
    "df.to_excel(file_name)"
   ]
  },
  {
   "cell_type": "markdown",
   "metadata": {},
   "source": [
    "Depois desse processo tivemos que manualmente corrigir a base que apresentava inconsistências em termos de objectid, relacionando dois jogos ao mesmo id"
   ]
  }
 ],
 "metadata": {
  "kernelspec": {
   "display_name": "Python 3",
   "language": "python",
   "name": "python3"
  },
  "language_info": {
   "codemirror_mode": {
    "name": "ipython",
    "version": 3
   },
   "file_extension": ".py",
   "mimetype": "text/x-python",
   "name": "python",
   "nbconvert_exporter": "python",
   "pygments_lexer": "ipython3",
   "version": "3.11.4"
  }
 },
 "nbformat": 4,
 "nbformat_minor": 2
}
