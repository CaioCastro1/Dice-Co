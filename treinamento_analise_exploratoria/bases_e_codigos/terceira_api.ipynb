{
 "cells": [
  {
   "cell_type": "code",
   "execution_count": 4,
   "metadata": {},
   "outputs": [],
   "source": [
    "import http.client\n",
    "\n",
    "conn = http.client.HTTPSConnection(\"treinamento-ndados.s3.sa-east-1.amazonaws.com\")\n",
    "\n",
    "headersList = {\n",
    " \"Accept\": \"*/*\",\n",
    " \"User-Agent\": \"Thunder Client (https://www.thunderclient.com)\" \n",
    "}\n",
    "\n",
    "payload = \"\"\n",
    "\n",
    "conn.request(\"GET\", \"/boardgames_stat_raw.json\", payload, headersList)\n",
    "response = conn.getresponse()\n",
    "result = response.read()"
   ]
  },
  {
   "cell_type": "code",
   "execution_count": 5,
   "metadata": {},
   "outputs": [
    {
     "name": "stdout",
     "output_type": "stream",
     "text": [
      "   objectid  min_community  max_community  totalvotes playerage  \\\n",
      "0    174430            3.0            4.0       827.0        14   \n",
      "1    161936            4.0            4.0       549.0        12   \n",
      "2    167791            3.0            4.0      1252.0        12   \n",
      "3    182028            3.0            4.0       436.0        14   \n",
      "4    224517            3.0            4.0       242.0        14   \n",
      "\n",
      "   languagedependence  usersrated  average  baverage   stddev  ...  \\\n",
      "0                   4     31254.0  8.85292   8.58424  1.59819  ...   \n",
      "1                   4     34729.0  8.62499   8.47159  1.59463  ...   \n",
      "2                   3     48339.0  8.42299   8.26781  1.36938  ...   \n",
      "3                   4     18269.0  8.49419   8.23513  1.49542  ...   \n",
      "4                   1     10070.0  8.62031   8.20459  1.22876  ...   \n",
      "\n",
      "   numtrading  numwanting  numcomments  siteviews  numplays  numplays_month  \\\n",
      "0         313        1365         5972    8933078    230213            3478   \n",
      "1         272         771         5477    2971746    196621            1090   \n",
      "2         277        2068         7274    4724387    245997            4380   \n",
      "3         280        1049         2660    2448074     54284             511   \n",
      "4          37        1077         1702     894621     23336             815   \n",
      "\n",
      "   news  blogs  weblink  podcast  \n",
      "0     7    471       31      139  \n",
      "1     9    597       69      164  \n",
      "2    14   1158       60      148  \n",
      "3     5    185       30       42  \n",
      "4     3    124       13       21  \n",
      "\n",
      "[5 rows x 23 columns]\n"
     ]
    }
   ],
   "source": [
    "import pandas as pd\n",
    "import json\n",
    "\n",
    "json_file = json.loads(result)\n",
    "\n",
    "df = pd.read_json(json.dumps(json_file))\n",
    "\n",
    "print(df.head())"
   ]
  },
  {
   "cell_type": "code",
   "execution_count": 6,
   "metadata": {},
   "outputs": [],
   "source": [
    "file_name = 'terceira_api.xlsx'\n",
    "df.to_excel(file_name)"
   ]
  }
 ],
 "metadata": {
  "kernelspec": {
   "display_name": "Python 3",
   "language": "python",
   "name": "python3"
  },
  "language_info": {
   "codemirror_mode": {
    "name": "ipython",
    "version": 3
   },
   "file_extension": ".py",
   "mimetype": "text/x-python",
   "name": "python",
   "nbconvert_exporter": "python",
   "pygments_lexer": "ipython3",
   "version": "3.11.4"
  }
 },
 "nbformat": 4,
 "nbformat_minor": 2
}
