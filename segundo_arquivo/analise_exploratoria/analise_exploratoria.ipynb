{
 "cells": [
  {
   "cell_type": "code",
   "execution_count": 1,
   "metadata": {},
   "outputs": [],
   "source": [
    "import pandas as pd\n",
    "import numpy as np \n",
    "import seaborn as sns\n",
    "import matplotlib.pyplot as plt\n",
    "import plotly.express as px\n",
    "import plotly.figure_factory as ff\n",
    "\n",
    "import warnings\n",
    "warnings.filterwarnings(\"ignore\")\n",
    "\n",
    "sns.set_style(\"darkgrid\")\n",
    "\n",
    "pd.set_option('display.max_columns', None)"
   ]
  },
  {
   "cell_type": "markdown",
   "metadata": {},
   "source": [
    "## 1. Entendendo a base de dados e tratando os dados"
   ]
  },
  {
   "cell_type": "code",
   "execution_count": 4,
   "metadata": {},
   "outputs": [
    {
     "data": {
      "text/html": [
       "<div>\n",
       "<style scoped>\n",
       "    .dataframe tbody tr th:only-of-type {\n",
       "        vertical-align: middle;\n",
       "    }\n",
       "\n",
       "    .dataframe tbody tr th {\n",
       "        vertical-align: top;\n",
       "    }\n",
       "\n",
       "    .dataframe thead th {\n",
       "        text-align: right;\n",
       "    }\n",
       "</style>\n",
       "<table border=\"1\" class=\"dataframe\">\n",
       "  <thead>\n",
       "    <tr style=\"text-align: right;\">\n",
       "      <th></th>\n",
       "      <th>objectid</th>\n",
       "      <th>name</th>\n",
       "      <th>yearpublished</th>\n",
       "      <th>sortindex</th>\n",
       "      <th>minplayers</th>\n",
       "      <th>maxplayers</th>\n",
       "      <th>minplaytime</th>\n",
       "      <th>maxplaytime</th>\n",
       "      <th>minage</th>\n",
       "      <th>label</th>\n",
       "      <th>boardgamedesigner_cnt</th>\n",
       "      <th>boardgameartist_cnt</th>\n",
       "      <th>boardgamepublisher_cnt</th>\n",
       "      <th>boardgamehonor_cnt</th>\n",
       "      <th>boardgamecategory_cnt</th>\n",
       "      <th>boardgamemechanic_cnt</th>\n",
       "      <th>boardgameexpansion_cnt</th>\n",
       "      <th>boardgameversion_cnt</th>\n",
       "      <th>boardgamefamily_cnt</th>\n",
       "      <th>boardgamedesigner</th>\n",
       "      <th>boardgameartist</th>\n",
       "      <th>boardgamepublisher</th>\n",
       "      <th>boardgamehonor</th>\n",
       "      <th>boardgamecategory</th>\n",
       "      <th>boardgameversion</th>\n",
       "      <th>boardgamemechanic</th>\n",
       "      <th>boardgameexpansion</th>\n",
       "      <th>boardgamefamily</th>\n",
       "      <th>gamelink</th>\n",
       "      <th>min_community</th>\n",
       "      <th>max_community</th>\n",
       "      <th>totalvotes</th>\n",
       "      <th>playerage</th>\n",
       "      <th>languagedependence</th>\n",
       "      <th>usersrated</th>\n",
       "      <th>average</th>\n",
       "      <th>baverage</th>\n",
       "      <th>stddev</th>\n",
       "      <th>avgweight</th>\n",
       "      <th>numweights</th>\n",
       "      <th>numgeeklists</th>\n",
       "      <th>numtrading</th>\n",
       "      <th>numwanting</th>\n",
       "      <th>numcomments</th>\n",
       "      <th>siteviews</th>\n",
       "      <th>numplays</th>\n",
       "      <th>numplays_month</th>\n",
       "      <th>news</th>\n",
       "      <th>blogs</th>\n",
       "      <th>weblink</th>\n",
       "      <th>podcast</th>\n",
       "    </tr>\n",
       "  </thead>\n",
       "  <tbody>\n",
       "    <tr>\n",
       "      <th>0</th>\n",
       "      <td>174430</td>\n",
       "      <td>Gloomhaven</td>\n",
       "      <td>2017</td>\n",
       "      <td>1</td>\n",
       "      <td>1</td>\n",
       "      <td>4</td>\n",
       "      <td>60</td>\n",
       "      <td>120</td>\n",
       "      <td>12</td>\n",
       "      <td>Board Game</td>\n",
       "      <td>1</td>\n",
       "      <td>3</td>\n",
       "      <td>9</td>\n",
       "      <td>23</td>\n",
       "      <td>5</td>\n",
       "      <td>12</td>\n",
       "      <td>4</td>\n",
       "      <td>19</td>\n",
       "      <td>7</td>\n",
       "      <td>['Isaac Childres\"']</td>\n",
       "      <td>['Alexandr Elichev', 'Josh T. McDowell', 'Alva...</td>\n",
       "      <td>['Cephalofair Games', 'Albi', 'Asmodee', 'Feue...</td>\n",
       "      <td>['2017 Best Science Fiction or Fantasy Board G...</td>\n",
       "      <td>['Adventure', 'Exploration', 'Fantasy', 'Fight...</td>\n",
       "      <td>['Chinese edition', 'Czech edition', 'English ...</td>\n",
       "      <td>['Campaign / Battle Card Driven', 'Cooperative...</td>\n",
       "      <td>['Gloomhaven: Forgotten Circles', 'Gloomhaven:...</td>\n",
       "      <td>['Campaign Games', 'Components: Miniatures', '...</td>\n",
       "      <td>/boardgame/174430/gloomhaven</td>\n",
       "      <td>3.0</td>\n",
       "      <td>4.0</td>\n",
       "      <td>827.0</td>\n",
       "      <td>14</td>\n",
       "      <td>4</td>\n",
       "      <td>31254.0</td>\n",
       "      <td>8.85292</td>\n",
       "      <td>8.58424</td>\n",
       "      <td>1.59819</td>\n",
       "      <td>3.8078</td>\n",
       "      <td>1311</td>\n",
       "      <td>3657</td>\n",
       "      <td>313</td>\n",
       "      <td>1365</td>\n",
       "      <td>5972</td>\n",
       "      <td>8933078</td>\n",
       "      <td>230213</td>\n",
       "      <td>3478</td>\n",
       "      <td>7</td>\n",
       "      <td>471</td>\n",
       "      <td>31</td>\n",
       "      <td>139</td>\n",
       "    </tr>\n",
       "    <tr>\n",
       "      <th>1</th>\n",
       "      <td>161936</td>\n",
       "      <td>Pandemic Legacy  Season 1</td>\n",
       "      <td>2015</td>\n",
       "      <td>2</td>\n",
       "      <td>2</td>\n",
       "      <td>4</td>\n",
       "      <td>60</td>\n",
       "      <td>60</td>\n",
       "      <td>13</td>\n",
       "      <td>Board Game</td>\n",
       "      <td>2</td>\n",
       "      <td>1</td>\n",
       "      <td>11</td>\n",
       "      <td>20</td>\n",
       "      <td>2</td>\n",
       "      <td>8</td>\n",
       "      <td>0</td>\n",
       "      <td>33</td>\n",
       "      <td>3</td>\n",
       "      <td>['Rob Daviau\"', 'Matt Leacock\"']</td>\n",
       "      <td>['Chris Quilliams']</td>\n",
       "      <td>['Z-Man Games', 'Asterion Press', 'Devir', 'Fi...</td>\n",
       "      <td>['2015 Cardboard Republic Immersionist Laurel ...</td>\n",
       "      <td>['Environmental', 'Medical']</td>\n",
       "      <td>['Chinese blue edition', 'Chinese red edition'...</td>\n",
       "      <td>['Action Points', 'Cooperative Game', 'Hand Ma...</td>\n",
       "      <td>['None']</td>\n",
       "      <td>['Campaign Games', 'Legacy', 'Pandemic']</td>\n",
       "      <td>/boardgame/161936/pandemic-legacy-season-1</td>\n",
       "      <td>4.0</td>\n",
       "      <td>4.0</td>\n",
       "      <td>549.0</td>\n",
       "      <td>12</td>\n",
       "      <td>4</td>\n",
       "      <td>34729.0</td>\n",
       "      <td>8.62499</td>\n",
       "      <td>8.47159</td>\n",
       "      <td>1.59463</td>\n",
       "      <td>2.8301</td>\n",
       "      <td>971</td>\n",
       "      <td>3612</td>\n",
       "      <td>272</td>\n",
       "      <td>771</td>\n",
       "      <td>5477</td>\n",
       "      <td>2971746</td>\n",
       "      <td>196621</td>\n",
       "      <td>1090</td>\n",
       "      <td>9</td>\n",
       "      <td>597</td>\n",
       "      <td>69</td>\n",
       "      <td>164</td>\n",
       "    </tr>\n",
       "    <tr>\n",
       "      <th>2</th>\n",
       "      <td>167791</td>\n",
       "      <td>Terraforming Mars</td>\n",
       "      <td>2016</td>\n",
       "      <td>3</td>\n",
       "      <td>1</td>\n",
       "      <td>5</td>\n",
       "      <td>120</td>\n",
       "      <td>120</td>\n",
       "      <td>12</td>\n",
       "      <td>Board Game</td>\n",
       "      <td>1</td>\n",
       "      <td>1</td>\n",
       "      <td>20</td>\n",
       "      <td>20</td>\n",
       "      <td>6</td>\n",
       "      <td>9</td>\n",
       "      <td>15</td>\n",
       "      <td>29</td>\n",
       "      <td>6</td>\n",
       "      <td>['Jacob Fryxelius\"']</td>\n",
       "      <td>['Isaac Fryxelius']</td>\n",
       "      <td>['FryxGames', 'Arclight', 'Fantasmagoria', 'Gh...</td>\n",
       "      <td>['2016 Cardboard Republic Architect Laurel Nom...</td>\n",
       "      <td>['Economic', 'Environmental', 'Industry / Manu...</td>\n",
       "      <td>['Bulgarian edition', 'Chinese edition', 'Czec...</td>\n",
       "      <td>['Card Drafting', 'End Game Bonuses', 'Hand Ma...</td>\n",
       "      <td>['French Championship Promo Cards (fan expansi...</td>\n",
       "      <td>['Fryxgames Future Timeline', 'Planets: Mars',...</td>\n",
       "      <td>/boardgame/167791/terraforming-mars</td>\n",
       "      <td>3.0</td>\n",
       "      <td>4.0</td>\n",
       "      <td>1252.0</td>\n",
       "      <td>12</td>\n",
       "      <td>3</td>\n",
       "      <td>48339.0</td>\n",
       "      <td>8.42299</td>\n",
       "      <td>8.26781</td>\n",
       "      <td>1.36938</td>\n",
       "      <td>3.2313</td>\n",
       "      <td>1863</td>\n",
       "      <td>5941</td>\n",
       "      <td>277</td>\n",
       "      <td>2068</td>\n",
       "      <td>7274</td>\n",
       "      <td>4724387</td>\n",
       "      <td>245997</td>\n",
       "      <td>4380</td>\n",
       "      <td>14</td>\n",
       "      <td>1158</td>\n",
       "      <td>60</td>\n",
       "      <td>148</td>\n",
       "    </tr>\n",
       "    <tr>\n",
       "      <th>3</th>\n",
       "      <td>182028</td>\n",
       "      <td>Through the Ages  A New Story of Civilization</td>\n",
       "      <td>2015</td>\n",
       "      <td>4</td>\n",
       "      <td>2</td>\n",
       "      <td>4</td>\n",
       "      <td>120</td>\n",
       "      <td>120</td>\n",
       "      <td>14</td>\n",
       "      <td>Board Game</td>\n",
       "      <td>1</td>\n",
       "      <td>4</td>\n",
       "      <td>13</td>\n",
       "      <td>3</td>\n",
       "      <td>3</td>\n",
       "      <td>5</td>\n",
       "      <td>1</td>\n",
       "      <td>14</td>\n",
       "      <td>2</td>\n",
       "      <td>['Vlaada Chv\\\\u00e1til\"']</td>\n",
       "      <td>['Filip Murmak', 'Radim Pech', 'Jakub Politzer...</td>\n",
       "      <td>['Czech Games Edition', 'Cranio Creations', 'D...</td>\n",
       "      <td>['2015 Golden Geek Best Strategy Board Game No...</td>\n",
       "      <td>['Card Game', 'Civilization', 'Economic']</td>\n",
       "      <td>['Chinese edition', 'Czech edition', 'English ...</td>\n",
       "      <td>['Action Points', 'Auction/Bidding', 'Auction:...</td>\n",
       "      <td>['Through the Ages: New Leaders and Wonders']</td>\n",
       "      <td>['Tableau Building', 'Through the Ages']</td>\n",
       "      <td>/boardgame/182028/through-ages-new-story-civil...</td>\n",
       "      <td>3.0</td>\n",
       "      <td>4.0</td>\n",
       "      <td>436.0</td>\n",
       "      <td>14</td>\n",
       "      <td>4</td>\n",
       "      <td>18269.0</td>\n",
       "      <td>8.49419</td>\n",
       "      <td>8.23513</td>\n",
       "      <td>1.49542</td>\n",
       "      <td>4.3850</td>\n",
       "      <td>891</td>\n",
       "      <td>2083</td>\n",
       "      <td>280</td>\n",
       "      <td>1049</td>\n",
       "      <td>2660</td>\n",
       "      <td>2448074</td>\n",
       "      <td>54284</td>\n",
       "      <td>511</td>\n",
       "      <td>5</td>\n",
       "      <td>185</td>\n",
       "      <td>30</td>\n",
       "      <td>42</td>\n",
       "    </tr>\n",
       "    <tr>\n",
       "      <th>4</th>\n",
       "      <td>224517</td>\n",
       "      <td>Brass  Birmingham</td>\n",
       "      <td>2018</td>\n",
       "      <td>5</td>\n",
       "      <td>2</td>\n",
       "      <td>4</td>\n",
       "      <td>60</td>\n",
       "      <td>120</td>\n",
       "      <td>14</td>\n",
       "      <td>Board Game</td>\n",
       "      <td>3</td>\n",
       "      <td>3</td>\n",
       "      <td>8</td>\n",
       "      <td>6</td>\n",
       "      <td>3</td>\n",
       "      <td>8</td>\n",
       "      <td>0</td>\n",
       "      <td>9</td>\n",
       "      <td>6</td>\n",
       "      <td>['Gavan Brown\"', 'Matt Tolman\"', 'Martin Walla...</td>\n",
       "      <td>['Lina Cossette', 'David Forest', 'Damien Mamm...</td>\n",
       "      <td>['Roxley', 'BoardM Factory', 'Conclave Editora...</td>\n",
       "      <td>['2018 Golden Geek Best Board Game Artwork &amp; P...</td>\n",
       "      <td>['Economic', 'Industry / Manufacturing', 'Tran...</td>\n",
       "      <td>['English deluxe edition', 'English retail edi...</td>\n",
       "      <td>['Hand Management', 'Income', 'Loans', 'Market...</td>\n",
       "      <td>['None']</td>\n",
       "      <td>['Beer', 'Brass', 'Cities: Birmingham (England...</td>\n",
       "      <td>/boardgame/224517/brass-birmingham</td>\n",
       "      <td>3.0</td>\n",
       "      <td>4.0</td>\n",
       "      <td>242.0</td>\n",
       "      <td>14</td>\n",
       "      <td>1</td>\n",
       "      <td>10070.0</td>\n",
       "      <td>8.62031</td>\n",
       "      <td>8.20459</td>\n",
       "      <td>1.22876</td>\n",
       "      <td>3.9122</td>\n",
       "      <td>467</td>\n",
       "      <td>1039</td>\n",
       "      <td>37</td>\n",
       "      <td>1077</td>\n",
       "      <td>1702</td>\n",
       "      <td>894621</td>\n",
       "      <td>23336</td>\n",
       "      <td>815</td>\n",
       "      <td>3</td>\n",
       "      <td>124</td>\n",
       "      <td>13</td>\n",
       "      <td>21</td>\n",
       "    </tr>\n",
       "  </tbody>\n",
       "</table>\n",
       "</div>"
      ],
      "text/plain": [
       "   objectid                                           name  yearpublished  \\\n",
       "0    174430                                     Gloomhaven           2017   \n",
       "1    161936                      Pandemic Legacy  Season 1           2015   \n",
       "2    167791                              Terraforming Mars           2016   \n",
       "3    182028  Through the Ages  A New Story of Civilization           2015   \n",
       "4    224517                              Brass  Birmingham           2018   \n",
       "\n",
       "   sortindex  minplayers  maxplayers  minplaytime  maxplaytime  minage  \\\n",
       "0          1           1           4           60          120      12   \n",
       "1          2           2           4           60           60      13   \n",
       "2          3           1           5          120          120      12   \n",
       "3          4           2           4          120          120      14   \n",
       "4          5           2           4           60          120      14   \n",
       "\n",
       "        label  boardgamedesigner_cnt  boardgameartist_cnt  \\\n",
       "0  Board Game                      1                    3   \n",
       "1  Board Game                      2                    1   \n",
       "2  Board Game                      1                    1   \n",
       "3  Board Game                      1                    4   \n",
       "4  Board Game                      3                    3   \n",
       "\n",
       "   boardgamepublisher_cnt  boardgamehonor_cnt  boardgamecategory_cnt  \\\n",
       "0                       9                  23                      5   \n",
       "1                      11                  20                      2   \n",
       "2                      20                  20                      6   \n",
       "3                      13                   3                      3   \n",
       "4                       8                   6                      3   \n",
       "\n",
       "   boardgamemechanic_cnt  boardgameexpansion_cnt  boardgameversion_cnt  \\\n",
       "0                     12                       4                    19   \n",
       "1                      8                       0                    33   \n",
       "2                      9                      15                    29   \n",
       "3                      5                       1                    14   \n",
       "4                      8                       0                     9   \n",
       "\n",
       "   boardgamefamily_cnt                                  boardgamedesigner  \\\n",
       "0                    7                                ['Isaac Childres\"']   \n",
       "1                    3                   ['Rob Daviau\"', 'Matt Leacock\"']   \n",
       "2                    6                               ['Jacob Fryxelius\"']   \n",
       "3                    2                          ['Vlaada Chv\\\\u00e1til\"']   \n",
       "4                    6  ['Gavan Brown\"', 'Matt Tolman\"', 'Martin Walla...   \n",
       "\n",
       "                                     boardgameartist  \\\n",
       "0  ['Alexandr Elichev', 'Josh T. McDowell', 'Alva...   \n",
       "1                                ['Chris Quilliams']   \n",
       "2                                ['Isaac Fryxelius']   \n",
       "3  ['Filip Murmak', 'Radim Pech', 'Jakub Politzer...   \n",
       "4  ['Lina Cossette', 'David Forest', 'Damien Mamm...   \n",
       "\n",
       "                                  boardgamepublisher  \\\n",
       "0  ['Cephalofair Games', 'Albi', 'Asmodee', 'Feue...   \n",
       "1  ['Z-Man Games', 'Asterion Press', 'Devir', 'Fi...   \n",
       "2  ['FryxGames', 'Arclight', 'Fantasmagoria', 'Gh...   \n",
       "3  ['Czech Games Edition', 'Cranio Creations', 'D...   \n",
       "4  ['Roxley', 'BoardM Factory', 'Conclave Editora...   \n",
       "\n",
       "                                      boardgamehonor  \\\n",
       "0  ['2017 Best Science Fiction or Fantasy Board G...   \n",
       "1  ['2015 Cardboard Republic Immersionist Laurel ...   \n",
       "2  ['2016 Cardboard Republic Architect Laurel Nom...   \n",
       "3  ['2015 Golden Geek Best Strategy Board Game No...   \n",
       "4  ['2018 Golden Geek Best Board Game Artwork & P...   \n",
       "\n",
       "                                   boardgamecategory  \\\n",
       "0  ['Adventure', 'Exploration', 'Fantasy', 'Fight...   \n",
       "1                       ['Environmental', 'Medical']   \n",
       "2  ['Economic', 'Environmental', 'Industry / Manu...   \n",
       "3          ['Card Game', 'Civilization', 'Economic']   \n",
       "4  ['Economic', 'Industry / Manufacturing', 'Tran...   \n",
       "\n",
       "                                    boardgameversion  \\\n",
       "0  ['Chinese edition', 'Czech edition', 'English ...   \n",
       "1  ['Chinese blue edition', 'Chinese red edition'...   \n",
       "2  ['Bulgarian edition', 'Chinese edition', 'Czec...   \n",
       "3  ['Chinese edition', 'Czech edition', 'English ...   \n",
       "4  ['English deluxe edition', 'English retail edi...   \n",
       "\n",
       "                                   boardgamemechanic  \\\n",
       "0  ['Campaign / Battle Card Driven', 'Cooperative...   \n",
       "1  ['Action Points', 'Cooperative Game', 'Hand Ma...   \n",
       "2  ['Card Drafting', 'End Game Bonuses', 'Hand Ma...   \n",
       "3  ['Action Points', 'Auction/Bidding', 'Auction:...   \n",
       "4  ['Hand Management', 'Income', 'Loans', 'Market...   \n",
       "\n",
       "                                  boardgameexpansion  \\\n",
       "0  ['Gloomhaven: Forgotten Circles', 'Gloomhaven:...   \n",
       "1                                           ['None']   \n",
       "2  ['French Championship Promo Cards (fan expansi...   \n",
       "3      ['Through the Ages: New Leaders and Wonders']   \n",
       "4                                           ['None']   \n",
       "\n",
       "                                     boardgamefamily  \\\n",
       "0  ['Campaign Games', 'Components: Miniatures', '...   \n",
       "1           ['Campaign Games', 'Legacy', 'Pandemic']   \n",
       "2  ['Fryxgames Future Timeline', 'Planets: Mars',...   \n",
       "3           ['Tableau Building', 'Through the Ages']   \n",
       "4  ['Beer', 'Brass', 'Cities: Birmingham (England...   \n",
       "\n",
       "                                            gamelink  min_community  \\\n",
       "0                       /boardgame/174430/gloomhaven            3.0   \n",
       "1         /boardgame/161936/pandemic-legacy-season-1            4.0   \n",
       "2                /boardgame/167791/terraforming-mars            3.0   \n",
       "3  /boardgame/182028/through-ages-new-story-civil...            3.0   \n",
       "4                 /boardgame/224517/brass-birmingham            3.0   \n",
       "\n",
       "   max_community  totalvotes playerage  languagedependence  usersrated  \\\n",
       "0            4.0       827.0        14                   4     31254.0   \n",
       "1            4.0       549.0        12                   4     34729.0   \n",
       "2            4.0      1252.0        12                   3     48339.0   \n",
       "3            4.0       436.0        14                   4     18269.0   \n",
       "4            4.0       242.0        14                   1     10070.0   \n",
       "\n",
       "   average  baverage   stddev  avgweight  numweights  numgeeklists  \\\n",
       "0  8.85292   8.58424  1.59819     3.8078        1311          3657   \n",
       "1  8.62499   8.47159  1.59463     2.8301         971          3612   \n",
       "2  8.42299   8.26781  1.36938     3.2313        1863          5941   \n",
       "3  8.49419   8.23513  1.49542     4.3850         891          2083   \n",
       "4  8.62031   8.20459  1.22876     3.9122         467          1039   \n",
       "\n",
       "   numtrading  numwanting  numcomments  siteviews  numplays  numplays_month  \\\n",
       "0         313        1365         5972    8933078    230213            3478   \n",
       "1         272         771         5477    2971746    196621            1090   \n",
       "2         277        2068         7274    4724387    245997            4380   \n",
       "3         280        1049         2660    2448074     54284             511   \n",
       "4          37        1077         1702     894621     23336             815   \n",
       "\n",
       "   news  blogs  weblink  podcast  \n",
       "0     7    471       31      139  \n",
       "1     9    597       69      164  \n",
       "2    14   1158       60      148  \n",
       "3     5    185       30       42  \n",
       "4     3    124       13       21  "
      ]
     },
     "execution_count": 4,
     "metadata": {},
     "output_type": "execute_result"
    }
   ],
   "source": [
    "# importação da base de dados a ser utilizada\n",
    "data = pd.read_excel('../bases_e_codigos/base_oficial.xlsx')"
   ]
  },
  {
   "cell_type": "code",
   "execution_count": 19,
   "metadata": {},
   "outputs": [
    {
     "data": {
      "text/html": [
       "<div>\n",
       "<style scoped>\n",
       "    .dataframe tbody tr th:only-of-type {\n",
       "        vertical-align: middle;\n",
       "    }\n",
       "\n",
       "    .dataframe tbody tr th {\n",
       "        vertical-align: top;\n",
       "    }\n",
       "\n",
       "    .dataframe thead th {\n",
       "        text-align: right;\n",
       "    }\n",
       "</style>\n",
       "<table border=\"1\" class=\"dataframe\">\n",
       "  <thead>\n",
       "    <tr style=\"text-align: right;\">\n",
       "      <th></th>\n",
       "      <th>objectid</th>\n",
       "      <th>name</th>\n",
       "      <th>yearpublished</th>\n",
       "      <th>sortindex</th>\n",
       "      <th>minplayers</th>\n",
       "      <th>maxplayers</th>\n",
       "      <th>minplaytime</th>\n",
       "      <th>maxplaytime</th>\n",
       "      <th>minage</th>\n",
       "      <th>label</th>\n",
       "      <th>boardgamedesigner_cnt</th>\n",
       "      <th>boardgameartist_cnt</th>\n",
       "      <th>boardgamepublisher_cnt</th>\n",
       "      <th>boardgamehonor_cnt</th>\n",
       "      <th>boardgamecategory_cnt</th>\n",
       "      <th>boardgamemechanic_cnt</th>\n",
       "      <th>boardgameexpansion_cnt</th>\n",
       "      <th>boardgameversion_cnt</th>\n",
       "      <th>boardgamefamily_cnt</th>\n",
       "      <th>boardgamedesigner</th>\n",
       "      <th>boardgameartist</th>\n",
       "      <th>boardgamepublisher</th>\n",
       "      <th>boardgamehonor</th>\n",
       "      <th>boardgamecategory</th>\n",
       "      <th>boardgameversion</th>\n",
       "      <th>boardgamemechanic</th>\n",
       "      <th>boardgameexpansion</th>\n",
       "      <th>boardgamefamily</th>\n",
       "      <th>gamelink</th>\n",
       "      <th>min_community</th>\n",
       "      <th>max_community</th>\n",
       "      <th>totalvotes</th>\n",
       "      <th>playerage</th>\n",
       "      <th>languagedependence</th>\n",
       "      <th>usersrated</th>\n",
       "      <th>average</th>\n",
       "      <th>baverage</th>\n",
       "      <th>stddev</th>\n",
       "      <th>avgweight</th>\n",
       "      <th>numweights</th>\n",
       "      <th>numgeeklists</th>\n",
       "      <th>numtrading</th>\n",
       "      <th>numwanting</th>\n",
       "      <th>numcomments</th>\n",
       "      <th>siteviews</th>\n",
       "      <th>numplays</th>\n",
       "      <th>numplays_month</th>\n",
       "      <th>news</th>\n",
       "      <th>blogs</th>\n",
       "      <th>weblink</th>\n",
       "      <th>podcast</th>\n",
       "    </tr>\n",
       "  </thead>\n",
       "  <tbody>\n",
       "    <tr>\n",
       "      <th>0</th>\n",
       "      <td>174430</td>\n",
       "      <td>Gloomhaven</td>\n",
       "      <td>2017</td>\n",
       "      <td>1</td>\n",
       "      <td>1</td>\n",
       "      <td>4</td>\n",
       "      <td>60</td>\n",
       "      <td>120</td>\n",
       "      <td>12</td>\n",
       "      <td>Board Game</td>\n",
       "      <td>1</td>\n",
       "      <td>3</td>\n",
       "      <td>9</td>\n",
       "      <td>23</td>\n",
       "      <td>5</td>\n",
       "      <td>12</td>\n",
       "      <td>4</td>\n",
       "      <td>19</td>\n",
       "      <td>7</td>\n",
       "      <td>['Isaac Childres\"']</td>\n",
       "      <td>['Alexandr Elichev', 'Josh T. McDowell', 'Alva...</td>\n",
       "      <td>['Cephalofair Games', 'Albi', 'Asmodee', 'Feue...</td>\n",
       "      <td>['2017 Best Science Fiction or Fantasy Board G...</td>\n",
       "      <td>['Adventure', 'Exploration', 'Fantasy', 'Fight...</td>\n",
       "      <td>['Chinese edition', 'Czech edition', 'English ...</td>\n",
       "      <td>['Campaign / Battle Card Driven', 'Cooperative...</td>\n",
       "      <td>['Gloomhaven: Forgotten Circles', 'Gloomhaven:...</td>\n",
       "      <td>['Campaign Games', 'Components: Miniatures', '...</td>\n",
       "      <td>/boardgame/174430/gloomhaven</td>\n",
       "      <td>3.0</td>\n",
       "      <td>4.0</td>\n",
       "      <td>827.0</td>\n",
       "      <td>14</td>\n",
       "      <td>4</td>\n",
       "      <td>31254.0</td>\n",
       "      <td>8.85292</td>\n",
       "      <td>8.58424</td>\n",
       "      <td>1.59819</td>\n",
       "      <td>3.8078</td>\n",
       "      <td>1311</td>\n",
       "      <td>3657</td>\n",
       "      <td>313</td>\n",
       "      <td>1365</td>\n",
       "      <td>5972</td>\n",
       "      <td>8933078</td>\n",
       "      <td>230213</td>\n",
       "      <td>3478</td>\n",
       "      <td>7</td>\n",
       "      <td>471</td>\n",
       "      <td>31</td>\n",
       "      <td>139</td>\n",
       "    </tr>\n",
       "    <tr>\n",
       "      <th>1</th>\n",
       "      <td>161936</td>\n",
       "      <td>Pandemic Legacy  Season 1</td>\n",
       "      <td>2015</td>\n",
       "      <td>2</td>\n",
       "      <td>2</td>\n",
       "      <td>4</td>\n",
       "      <td>60</td>\n",
       "      <td>60</td>\n",
       "      <td>13</td>\n",
       "      <td>Board Game</td>\n",
       "      <td>2</td>\n",
       "      <td>1</td>\n",
       "      <td>11</td>\n",
       "      <td>20</td>\n",
       "      <td>2</td>\n",
       "      <td>8</td>\n",
       "      <td>0</td>\n",
       "      <td>33</td>\n",
       "      <td>3</td>\n",
       "      <td>['Rob Daviau\"', 'Matt Leacock\"']</td>\n",
       "      <td>['Chris Quilliams']</td>\n",
       "      <td>['Z-Man Games', 'Asterion Press', 'Devir', 'Fi...</td>\n",
       "      <td>['2015 Cardboard Republic Immersionist Laurel ...</td>\n",
       "      <td>['Environmental', 'Medical']</td>\n",
       "      <td>['Chinese blue edition', 'Chinese red edition'...</td>\n",
       "      <td>['Action Points', 'Cooperative Game', 'Hand Ma...</td>\n",
       "      <td>['None']</td>\n",
       "      <td>['Campaign Games', 'Legacy', 'Pandemic']</td>\n",
       "      <td>/boardgame/161936/pandemic-legacy-season-1</td>\n",
       "      <td>4.0</td>\n",
       "      <td>4.0</td>\n",
       "      <td>549.0</td>\n",
       "      <td>12</td>\n",
       "      <td>4</td>\n",
       "      <td>34729.0</td>\n",
       "      <td>8.62499</td>\n",
       "      <td>8.47159</td>\n",
       "      <td>1.59463</td>\n",
       "      <td>2.8301</td>\n",
       "      <td>971</td>\n",
       "      <td>3612</td>\n",
       "      <td>272</td>\n",
       "      <td>771</td>\n",
       "      <td>5477</td>\n",
       "      <td>2971746</td>\n",
       "      <td>196621</td>\n",
       "      <td>1090</td>\n",
       "      <td>9</td>\n",
       "      <td>597</td>\n",
       "      <td>69</td>\n",
       "      <td>164</td>\n",
       "    </tr>\n",
       "    <tr>\n",
       "      <th>2</th>\n",
       "      <td>167791</td>\n",
       "      <td>Terraforming Mars</td>\n",
       "      <td>2016</td>\n",
       "      <td>3</td>\n",
       "      <td>1</td>\n",
       "      <td>5</td>\n",
       "      <td>120</td>\n",
       "      <td>120</td>\n",
       "      <td>12</td>\n",
       "      <td>Board Game</td>\n",
       "      <td>1</td>\n",
       "      <td>1</td>\n",
       "      <td>20</td>\n",
       "      <td>20</td>\n",
       "      <td>6</td>\n",
       "      <td>9</td>\n",
       "      <td>15</td>\n",
       "      <td>29</td>\n",
       "      <td>6</td>\n",
       "      <td>['Jacob Fryxelius\"']</td>\n",
       "      <td>['Isaac Fryxelius']</td>\n",
       "      <td>['FryxGames', 'Arclight', 'Fantasmagoria', 'Gh...</td>\n",
       "      <td>['2016 Cardboard Republic Architect Laurel Nom...</td>\n",
       "      <td>['Economic', 'Environmental', 'Industry / Manu...</td>\n",
       "      <td>['Bulgarian edition', 'Chinese edition', 'Czec...</td>\n",
       "      <td>['Card Drafting', 'End Game Bonuses', 'Hand Ma...</td>\n",
       "      <td>['French Championship Promo Cards (fan expansi...</td>\n",
       "      <td>['Fryxgames Future Timeline', 'Planets: Mars',...</td>\n",
       "      <td>/boardgame/167791/terraforming-mars</td>\n",
       "      <td>3.0</td>\n",
       "      <td>4.0</td>\n",
       "      <td>1252.0</td>\n",
       "      <td>12</td>\n",
       "      <td>3</td>\n",
       "      <td>48339.0</td>\n",
       "      <td>8.42299</td>\n",
       "      <td>8.26781</td>\n",
       "      <td>1.36938</td>\n",
       "      <td>3.2313</td>\n",
       "      <td>1863</td>\n",
       "      <td>5941</td>\n",
       "      <td>277</td>\n",
       "      <td>2068</td>\n",
       "      <td>7274</td>\n",
       "      <td>4724387</td>\n",
       "      <td>245997</td>\n",
       "      <td>4380</td>\n",
       "      <td>14</td>\n",
       "      <td>1158</td>\n",
       "      <td>60</td>\n",
       "      <td>148</td>\n",
       "    </tr>\n",
       "    <tr>\n",
       "      <th>3</th>\n",
       "      <td>182028</td>\n",
       "      <td>Through the Ages  A New Story of Civilization</td>\n",
       "      <td>2015</td>\n",
       "      <td>4</td>\n",
       "      <td>2</td>\n",
       "      <td>4</td>\n",
       "      <td>120</td>\n",
       "      <td>120</td>\n",
       "      <td>14</td>\n",
       "      <td>Board Game</td>\n",
       "      <td>1</td>\n",
       "      <td>4</td>\n",
       "      <td>13</td>\n",
       "      <td>3</td>\n",
       "      <td>3</td>\n",
       "      <td>5</td>\n",
       "      <td>1</td>\n",
       "      <td>14</td>\n",
       "      <td>2</td>\n",
       "      <td>['Vlaada Chv\\\\u00e1til\"']</td>\n",
       "      <td>['Filip Murmak', 'Radim Pech', 'Jakub Politzer...</td>\n",
       "      <td>['Czech Games Edition', 'Cranio Creations', 'D...</td>\n",
       "      <td>['2015 Golden Geek Best Strategy Board Game No...</td>\n",
       "      <td>['Card Game', 'Civilization', 'Economic']</td>\n",
       "      <td>['Chinese edition', 'Czech edition', 'English ...</td>\n",
       "      <td>['Action Points', 'Auction/Bidding', 'Auction:...</td>\n",
       "      <td>['Through the Ages: New Leaders and Wonders']</td>\n",
       "      <td>['Tableau Building', 'Through the Ages']</td>\n",
       "      <td>/boardgame/182028/through-ages-new-story-civil...</td>\n",
       "      <td>3.0</td>\n",
       "      <td>4.0</td>\n",
       "      <td>436.0</td>\n",
       "      <td>14</td>\n",
       "      <td>4</td>\n",
       "      <td>18269.0</td>\n",
       "      <td>8.49419</td>\n",
       "      <td>8.23513</td>\n",
       "      <td>1.49542</td>\n",
       "      <td>4.3850</td>\n",
       "      <td>891</td>\n",
       "      <td>2083</td>\n",
       "      <td>280</td>\n",
       "      <td>1049</td>\n",
       "      <td>2660</td>\n",
       "      <td>2448074</td>\n",
       "      <td>54284</td>\n",
       "      <td>511</td>\n",
       "      <td>5</td>\n",
       "      <td>185</td>\n",
       "      <td>30</td>\n",
       "      <td>42</td>\n",
       "    </tr>\n",
       "    <tr>\n",
       "      <th>4</th>\n",
       "      <td>224517</td>\n",
       "      <td>Brass  Birmingham</td>\n",
       "      <td>2018</td>\n",
       "      <td>5</td>\n",
       "      <td>2</td>\n",
       "      <td>4</td>\n",
       "      <td>60</td>\n",
       "      <td>120</td>\n",
       "      <td>14</td>\n",
       "      <td>Board Game</td>\n",
       "      <td>3</td>\n",
       "      <td>3</td>\n",
       "      <td>8</td>\n",
       "      <td>6</td>\n",
       "      <td>3</td>\n",
       "      <td>8</td>\n",
       "      <td>0</td>\n",
       "      <td>9</td>\n",
       "      <td>6</td>\n",
       "      <td>['Gavan Brown\"', 'Matt Tolman\"', 'Martin Walla...</td>\n",
       "      <td>['Lina Cossette', 'David Forest', 'Damien Mamm...</td>\n",
       "      <td>['Roxley', 'BoardM Factory', 'Conclave Editora...</td>\n",
       "      <td>['2018 Golden Geek Best Board Game Artwork &amp; P...</td>\n",
       "      <td>['Economic', 'Industry / Manufacturing', 'Tran...</td>\n",
       "      <td>['English deluxe edition', 'English retail edi...</td>\n",
       "      <td>['Hand Management', 'Income', 'Loans', 'Market...</td>\n",
       "      <td>['None']</td>\n",
       "      <td>['Beer', 'Brass', 'Cities: Birmingham (England...</td>\n",
       "      <td>/boardgame/224517/brass-birmingham</td>\n",
       "      <td>3.0</td>\n",
       "      <td>4.0</td>\n",
       "      <td>242.0</td>\n",
       "      <td>14</td>\n",
       "      <td>1</td>\n",
       "      <td>10070.0</td>\n",
       "      <td>8.62031</td>\n",
       "      <td>8.20459</td>\n",
       "      <td>1.22876</td>\n",
       "      <td>3.9122</td>\n",
       "      <td>467</td>\n",
       "      <td>1039</td>\n",
       "      <td>37</td>\n",
       "      <td>1077</td>\n",
       "      <td>1702</td>\n",
       "      <td>894621</td>\n",
       "      <td>23336</td>\n",
       "      <td>815</td>\n",
       "      <td>3</td>\n",
       "      <td>124</td>\n",
       "      <td>13</td>\n",
       "      <td>21</td>\n",
       "    </tr>\n",
       "  </tbody>\n",
       "</table>\n",
       "</div>"
      ],
      "text/plain": [
       "   objectid                                           name  yearpublished  \\\n",
       "0    174430                                     Gloomhaven           2017   \n",
       "1    161936                      Pandemic Legacy  Season 1           2015   \n",
       "2    167791                              Terraforming Mars           2016   \n",
       "3    182028  Through the Ages  A New Story of Civilization           2015   \n",
       "4    224517                              Brass  Birmingham           2018   \n",
       "\n",
       "   sortindex  minplayers  maxplayers  minplaytime  maxplaytime  minage  \\\n",
       "0          1           1           4           60          120      12   \n",
       "1          2           2           4           60           60      13   \n",
       "2          3           1           5          120          120      12   \n",
       "3          4           2           4          120          120      14   \n",
       "4          5           2           4           60          120      14   \n",
       "\n",
       "        label  boardgamedesigner_cnt  boardgameartist_cnt  \\\n",
       "0  Board Game                      1                    3   \n",
       "1  Board Game                      2                    1   \n",
       "2  Board Game                      1                    1   \n",
       "3  Board Game                      1                    4   \n",
       "4  Board Game                      3                    3   \n",
       "\n",
       "   boardgamepublisher_cnt  boardgamehonor_cnt  boardgamecategory_cnt  \\\n",
       "0                       9                  23                      5   \n",
       "1                      11                  20                      2   \n",
       "2                      20                  20                      6   \n",
       "3                      13                   3                      3   \n",
       "4                       8                   6                      3   \n",
       "\n",
       "   boardgamemechanic_cnt  boardgameexpansion_cnt  boardgameversion_cnt  \\\n",
       "0                     12                       4                    19   \n",
       "1                      8                       0                    33   \n",
       "2                      9                      15                    29   \n",
       "3                      5                       1                    14   \n",
       "4                      8                       0                     9   \n",
       "\n",
       "   boardgamefamily_cnt                                  boardgamedesigner  \\\n",
       "0                    7                                ['Isaac Childres\"']   \n",
       "1                    3                   ['Rob Daviau\"', 'Matt Leacock\"']   \n",
       "2                    6                               ['Jacob Fryxelius\"']   \n",
       "3                    2                          ['Vlaada Chv\\\\u00e1til\"']   \n",
       "4                    6  ['Gavan Brown\"', 'Matt Tolman\"', 'Martin Walla...   \n",
       "\n",
       "                                     boardgameartist  \\\n",
       "0  ['Alexandr Elichev', 'Josh T. McDowell', 'Alva...   \n",
       "1                                ['Chris Quilliams']   \n",
       "2                                ['Isaac Fryxelius']   \n",
       "3  ['Filip Murmak', 'Radim Pech', 'Jakub Politzer...   \n",
       "4  ['Lina Cossette', 'David Forest', 'Damien Mamm...   \n",
       "\n",
       "                                  boardgamepublisher  \\\n",
       "0  ['Cephalofair Games', 'Albi', 'Asmodee', 'Feue...   \n",
       "1  ['Z-Man Games', 'Asterion Press', 'Devir', 'Fi...   \n",
       "2  ['FryxGames', 'Arclight', 'Fantasmagoria', 'Gh...   \n",
       "3  ['Czech Games Edition', 'Cranio Creations', 'D...   \n",
       "4  ['Roxley', 'BoardM Factory', 'Conclave Editora...   \n",
       "\n",
       "                                      boardgamehonor  \\\n",
       "0  ['2017 Best Science Fiction or Fantasy Board G...   \n",
       "1  ['2015 Cardboard Republic Immersionist Laurel ...   \n",
       "2  ['2016 Cardboard Republic Architect Laurel Nom...   \n",
       "3  ['2015 Golden Geek Best Strategy Board Game No...   \n",
       "4  ['2018 Golden Geek Best Board Game Artwork & P...   \n",
       "\n",
       "                                   boardgamecategory  \\\n",
       "0  ['Adventure', 'Exploration', 'Fantasy', 'Fight...   \n",
       "1                       ['Environmental', 'Medical']   \n",
       "2  ['Economic', 'Environmental', 'Industry / Manu...   \n",
       "3          ['Card Game', 'Civilization', 'Economic']   \n",
       "4  ['Economic', 'Industry / Manufacturing', 'Tran...   \n",
       "\n",
       "                                    boardgameversion  \\\n",
       "0  ['Chinese edition', 'Czech edition', 'English ...   \n",
       "1  ['Chinese blue edition', 'Chinese red edition'...   \n",
       "2  ['Bulgarian edition', 'Chinese edition', 'Czec...   \n",
       "3  ['Chinese edition', 'Czech edition', 'English ...   \n",
       "4  ['English deluxe edition', 'English retail edi...   \n",
       "\n",
       "                                   boardgamemechanic  \\\n",
       "0  ['Campaign / Battle Card Driven', 'Cooperative...   \n",
       "1  ['Action Points', 'Cooperative Game', 'Hand Ma...   \n",
       "2  ['Card Drafting', 'End Game Bonuses', 'Hand Ma...   \n",
       "3  ['Action Points', 'Auction/Bidding', 'Auction:...   \n",
       "4  ['Hand Management', 'Income', 'Loans', 'Market...   \n",
       "\n",
       "                                  boardgameexpansion  \\\n",
       "0  ['Gloomhaven: Forgotten Circles', 'Gloomhaven:...   \n",
       "1                                           ['None']   \n",
       "2  ['French Championship Promo Cards (fan expansi...   \n",
       "3      ['Through the Ages: New Leaders and Wonders']   \n",
       "4                                           ['None']   \n",
       "\n",
       "                                     boardgamefamily  \\\n",
       "0  ['Campaign Games', 'Components: Miniatures', '...   \n",
       "1           ['Campaign Games', 'Legacy', 'Pandemic']   \n",
       "2  ['Fryxgames Future Timeline', 'Planets: Mars',...   \n",
       "3           ['Tableau Building', 'Through the Ages']   \n",
       "4  ['Beer', 'Brass', 'Cities: Birmingham (England...   \n",
       "\n",
       "                                            gamelink  min_community  \\\n",
       "0                       /boardgame/174430/gloomhaven            3.0   \n",
       "1         /boardgame/161936/pandemic-legacy-season-1            4.0   \n",
       "2                /boardgame/167791/terraforming-mars            3.0   \n",
       "3  /boardgame/182028/through-ages-new-story-civil...            3.0   \n",
       "4                 /boardgame/224517/brass-birmingham            3.0   \n",
       "\n",
       "   max_community  totalvotes playerage  languagedependence  usersrated  \\\n",
       "0            4.0       827.0        14                   4     31254.0   \n",
       "1            4.0       549.0        12                   4     34729.0   \n",
       "2            4.0      1252.0        12                   3     48339.0   \n",
       "3            4.0       436.0        14                   4     18269.0   \n",
       "4            4.0       242.0        14                   1     10070.0   \n",
       "\n",
       "   average  baverage   stddev  avgweight  numweights  numgeeklists  \\\n",
       "0  8.85292   8.58424  1.59819     3.8078        1311          3657   \n",
       "1  8.62499   8.47159  1.59463     2.8301         971          3612   \n",
       "2  8.42299   8.26781  1.36938     3.2313        1863          5941   \n",
       "3  8.49419   8.23513  1.49542     4.3850         891          2083   \n",
       "4  8.62031   8.20459  1.22876     3.9122         467          1039   \n",
       "\n",
       "   numtrading  numwanting  numcomments  siteviews  numplays  numplays_month  \\\n",
       "0         313        1365         5972    8933078    230213            3478   \n",
       "1         272         771         5477    2971746    196621            1090   \n",
       "2         277        2068         7274    4724387    245997            4380   \n",
       "3         280        1049         2660    2448074     54284             511   \n",
       "4          37        1077         1702     894621     23336             815   \n",
       "\n",
       "   news  blogs  weblink  podcast  \n",
       "0     7    471       31      139  \n",
       "1     9    597       69      164  \n",
       "2    14   1158       60      148  \n",
       "3     5    185       30       42  \n",
       "4     3    124       13       21  "
      ]
     },
     "execution_count": 19,
     "metadata": {},
     "output_type": "execute_result"
    }
   ],
   "source": [
    "# criando um back up\n",
    "df = data.copy(deep = True)\n",
    "\n",
    "df.drop(columns = 'Unnamed: 0', inplace = True)\n",
    "df.head()"
   ]
  },
  {
   "cell_type": "code",
   "execution_count": 6,
   "metadata": {},
   "outputs": [
    {
     "data": {
      "text/plain": [
       "(20000, 52)"
      ]
     },
     "execution_count": 6,
     "metadata": {},
     "output_type": "execute_result"
    }
   ],
   "source": [
    "# entendendo o formato dos dados e colunas\n",
    "df.shape"
   ]
  },
  {
   "cell_type": "markdown",
   "metadata": {},
   "source": [
    "- A base possui **20000** pontos de dados e **51** colunas"
   ]
  },
  {
   "cell_type": "code",
   "execution_count": 21,
   "metadata": {},
   "outputs": [
    {
     "data": {
      "text/html": [
       "<div>\n",
       "<style scoped>\n",
       "    .dataframe tbody tr th:only-of-type {\n",
       "        vertical-align: middle;\n",
       "    }\n",
       "\n",
       "    .dataframe tbody tr th {\n",
       "        vertical-align: top;\n",
       "    }\n",
       "\n",
       "    .dataframe thead th {\n",
       "        text-align: right;\n",
       "    }\n",
       "</style>\n",
       "<table border=\"1\" class=\"dataframe\">\n",
       "  <thead>\n",
       "    <tr style=\"text-align: right;\">\n",
       "      <th></th>\n",
       "      <th>count</th>\n",
       "      <th>mean</th>\n",
       "      <th>std</th>\n",
       "      <th>min</th>\n",
       "      <th>25%</th>\n",
       "      <th>50%</th>\n",
       "      <th>75%</th>\n",
       "      <th>max</th>\n",
       "    </tr>\n",
       "  </thead>\n",
       "  <tbody>\n",
       "    <tr>\n",
       "      <th>objectid</th>\n",
       "      <td>20000.0</td>\n",
       "      <td>88667.615000</td>\n",
       "      <td>90640.919590</td>\n",
       "      <td>1.0</td>\n",
       "      <td>5858.75000</td>\n",
       "      <td>39278.500000</td>\n",
       "      <td>169680.500000</td>\n",
       "      <td>2.957700e+05</td>\n",
       "    </tr>\n",
       "    <tr>\n",
       "      <th>yearpublished</th>\n",
       "      <td>20000.0</td>\n",
       "      <td>1981.268700</td>\n",
       "      <td>219.223277</td>\n",
       "      <td>-3500.0</td>\n",
       "      <td>1997.00000</td>\n",
       "      <td>2008.000000</td>\n",
       "      <td>2015.000000</td>\n",
       "      <td>2.021000e+03</td>\n",
       "    </tr>\n",
       "    <tr>\n",
       "      <th>sortindex</th>\n",
       "      <td>20000.0</td>\n",
       "      <td>10000.500000</td>\n",
       "      <td>5773.647028</td>\n",
       "      <td>1.0</td>\n",
       "      <td>5000.75000</td>\n",
       "      <td>10000.500000</td>\n",
       "      <td>15000.250000</td>\n",
       "      <td>2.000000e+04</td>\n",
       "    </tr>\n",
       "    <tr>\n",
       "      <th>minplayers</th>\n",
       "      <td>20000.0</td>\n",
       "      <td>2.055250</td>\n",
       "      <td>0.745537</td>\n",
       "      <td>0.0</td>\n",
       "      <td>2.00000</td>\n",
       "      <td>2.000000</td>\n",
       "      <td>2.000000</td>\n",
       "      <td>1.000000e+01</td>\n",
       "    </tr>\n",
       "    <tr>\n",
       "      <th>maxplayers</th>\n",
       "      <td>20000.0</td>\n",
       "      <td>5.592150</td>\n",
       "      <td>15.049210</td>\n",
       "      <td>0.0</td>\n",
       "      <td>4.00000</td>\n",
       "      <td>4.000000</td>\n",
       "      <td>6.000000</td>\n",
       "      <td>9.990000e+02</td>\n",
       "    </tr>\n",
       "    <tr>\n",
       "      <th>minplaytime</th>\n",
       "      <td>20000.0</td>\n",
       "      <td>68.096450</td>\n",
       "      <td>466.502106</td>\n",
       "      <td>0.0</td>\n",
       "      <td>20.00000</td>\n",
       "      <td>30.000000</td>\n",
       "      <td>60.000000</td>\n",
       "      <td>6.000000e+04</td>\n",
       "    </tr>\n",
       "    <tr>\n",
       "      <th>maxplaytime</th>\n",
       "      <td>20000.0</td>\n",
       "      <td>94.289450</td>\n",
       "      <td>1005.751960</td>\n",
       "      <td>0.0</td>\n",
       "      <td>30.00000</td>\n",
       "      <td>45.000000</td>\n",
       "      <td>90.000000</td>\n",
       "      <td>1.200000e+05</td>\n",
       "    </tr>\n",
       "    <tr>\n",
       "      <th>minage</th>\n",
       "      <td>20000.0</td>\n",
       "      <td>9.476350</td>\n",
       "      <td>3.738842</td>\n",
       "      <td>0.0</td>\n",
       "      <td>8.00000</td>\n",
       "      <td>10.000000</td>\n",
       "      <td>12.000000</td>\n",
       "      <td>2.500000e+01</td>\n",
       "    </tr>\n",
       "    <tr>\n",
       "      <th>boardgamedesigner_cnt</th>\n",
       "      <td>20000.0</td>\n",
       "      <td>1.339200</td>\n",
       "      <td>0.787003</td>\n",
       "      <td>0.0</td>\n",
       "      <td>1.00000</td>\n",
       "      <td>1.000000</td>\n",
       "      <td>2.000000</td>\n",
       "      <td>2.100000e+01</td>\n",
       "    </tr>\n",
       "    <tr>\n",
       "      <th>boardgameartist_cnt</th>\n",
       "      <td>20000.0</td>\n",
       "      <td>1.379250</td>\n",
       "      <td>4.768926</td>\n",
       "      <td>0.0</td>\n",
       "      <td>0.00000</td>\n",
       "      <td>1.000000</td>\n",
       "      <td>2.000000</td>\n",
       "      <td>5.080000e+02</td>\n",
       "    </tr>\n",
       "    <tr>\n",
       "      <th>boardgamepublisher_cnt</th>\n",
       "      <td>20000.0</td>\n",
       "      <td>2.500100</td>\n",
       "      <td>5.082961</td>\n",
       "      <td>1.0</td>\n",
       "      <td>1.00000</td>\n",
       "      <td>1.000000</td>\n",
       "      <td>2.000000</td>\n",
       "      <td>1.740000e+02</td>\n",
       "    </tr>\n",
       "    <tr>\n",
       "      <th>boardgamehonor_cnt</th>\n",
       "      <td>20000.0</td>\n",
       "      <td>0.436000</td>\n",
       "      <td>1.609824</td>\n",
       "      <td>0.0</td>\n",
       "      <td>0.00000</td>\n",
       "      <td>0.000000</td>\n",
       "      <td>0.000000</td>\n",
       "      <td>5.000000e+01</td>\n",
       "    </tr>\n",
       "    <tr>\n",
       "      <th>boardgamecategory_cnt</th>\n",
       "      <td>20000.0</td>\n",
       "      <td>2.568050</td>\n",
       "      <td>1.366515</td>\n",
       "      <td>0.0</td>\n",
       "      <td>2.00000</td>\n",
       "      <td>2.000000</td>\n",
       "      <td>3.000000</td>\n",
       "      <td>1.400000e+01</td>\n",
       "    </tr>\n",
       "    <tr>\n",
       "      <th>boardgamemechanic_cnt</th>\n",
       "      <td>20000.0</td>\n",
       "      <td>2.306900</td>\n",
       "      <td>1.707764</td>\n",
       "      <td>0.0</td>\n",
       "      <td>1.00000</td>\n",
       "      <td>2.000000</td>\n",
       "      <td>3.000000</td>\n",
       "      <td>1.800000e+01</td>\n",
       "    </tr>\n",
       "    <tr>\n",
       "      <th>boardgameexpansion_cnt</th>\n",
       "      <td>20000.0</td>\n",
       "      <td>1.185750</td>\n",
       "      <td>6.809425</td>\n",
       "      <td>0.0</td>\n",
       "      <td>0.00000</td>\n",
       "      <td>0.000000</td>\n",
       "      <td>0.000000</td>\n",
       "      <td>4.440000e+02</td>\n",
       "    </tr>\n",
       "    <tr>\n",
       "      <th>boardgameversion_cnt</th>\n",
       "      <td>20000.0</td>\n",
       "      <td>3.392800</td>\n",
       "      <td>12.317236</td>\n",
       "      <td>0.0</td>\n",
       "      <td>1.00000</td>\n",
       "      <td>2.000000</td>\n",
       "      <td>3.000000</td>\n",
       "      <td>1.002000e+03</td>\n",
       "    </tr>\n",
       "    <tr>\n",
       "      <th>boardgamefamily_cnt</th>\n",
       "      <td>20000.0</td>\n",
       "      <td>1.429500</td>\n",
       "      <td>1.728375</td>\n",
       "      <td>0.0</td>\n",
       "      <td>0.00000</td>\n",
       "      <td>1.000000</td>\n",
       "      <td>2.000000</td>\n",
       "      <td>8.600000e+01</td>\n",
       "    </tr>\n",
       "    <tr>\n",
       "      <th>min_community</th>\n",
       "      <td>14141.0</td>\n",
       "      <td>3.203522</td>\n",
       "      <td>1.398935</td>\n",
       "      <td>1.0</td>\n",
       "      <td>2.00000</td>\n",
       "      <td>3.000000</td>\n",
       "      <td>4.000000</td>\n",
       "      <td>3.100000e+01</td>\n",
       "    </tr>\n",
       "    <tr>\n",
       "      <th>max_community</th>\n",
       "      <td>14803.0</td>\n",
       "      <td>4.277917</td>\n",
       "      <td>2.155624</td>\n",
       "      <td>1.0</td>\n",
       "      <td>3.00000</td>\n",
       "      <td>4.000000</td>\n",
       "      <td>5.000000</td>\n",
       "      <td>3.100000e+01</td>\n",
       "    </tr>\n",
       "    <tr>\n",
       "      <th>totalvotes</th>\n",
       "      <td>19904.0</td>\n",
       "      <td>13.464480</td>\n",
       "      <td>57.215368</td>\n",
       "      <td>0.0</td>\n",
       "      <td>1.00000</td>\n",
       "      <td>3.000000</td>\n",
       "      <td>7.000000</td>\n",
       "      <td>1.868000e+03</td>\n",
       "    </tr>\n",
       "    <tr>\n",
       "      <th>languagedependence</th>\n",
       "      <td>20000.0</td>\n",
       "      <td>1.354650</td>\n",
       "      <td>1.397130</td>\n",
       "      <td>0.0</td>\n",
       "      <td>0.00000</td>\n",
       "      <td>1.000000</td>\n",
       "      <td>2.000000</td>\n",
       "      <td>5.000000e+00</td>\n",
       "    </tr>\n",
       "    <tr>\n",
       "      <th>usersrated</th>\n",
       "      <td>19903.0</td>\n",
       "      <td>740.719389</td>\n",
       "      <td>3102.350251</td>\n",
       "      <td>0.0</td>\n",
       "      <td>47.00000</td>\n",
       "      <td>105.000000</td>\n",
       "      <td>334.000000</td>\n",
       "      <td>9.073000e+04</td>\n",
       "    </tr>\n",
       "    <tr>\n",
       "      <th>average</th>\n",
       "      <td>19903.0</td>\n",
       "      <td>6.275235</td>\n",
       "      <td>1.064903</td>\n",
       "      <td>0.0</td>\n",
       "      <td>5.71255</td>\n",
       "      <td>6.354030</td>\n",
       "      <td>6.955685</td>\n",
       "      <td>9.442860e+00</td>\n",
       "    </tr>\n",
       "    <tr>\n",
       "      <th>baverage</th>\n",
       "      <td>19904.0</td>\n",
       "      <td>5.297634</td>\n",
       "      <td>1.494510</td>\n",
       "      <td>0.0</td>\n",
       "      <td>5.50298</td>\n",
       "      <td>5.545145</td>\n",
       "      <td>5.675205</td>\n",
       "      <td>8.584240e+00</td>\n",
       "    </tr>\n",
       "    <tr>\n",
       "      <th>stddev</th>\n",
       "      <td>20000.0</td>\n",
       "      <td>1.499691</td>\n",
       "      <td>0.340743</td>\n",
       "      <td>0.0</td>\n",
       "      <td>1.30992</td>\n",
       "      <td>1.471575</td>\n",
       "      <td>1.663782</td>\n",
       "      <td>4.500000e+00</td>\n",
       "    </tr>\n",
       "    <tr>\n",
       "      <th>avgweight</th>\n",
       "      <td>20000.0</td>\n",
       "      <td>1.931761</td>\n",
       "      <td>0.897206</td>\n",
       "      <td>0.0</td>\n",
       "      <td>1.25505</td>\n",
       "      <td>1.910900</td>\n",
       "      <td>2.500000</td>\n",
       "      <td>5.000000e+00</td>\n",
       "    </tr>\n",
       "    <tr>\n",
       "      <th>numweights</th>\n",
       "      <td>20000.0</td>\n",
       "      <td>48.059050</td>\n",
       "      <td>198.113638</td>\n",
       "      <td>0.0</td>\n",
       "      <td>4.00000</td>\n",
       "      <td>9.000000</td>\n",
       "      <td>25.000000</td>\n",
       "      <td>7.104000e+03</td>\n",
       "    </tr>\n",
       "    <tr>\n",
       "      <th>numgeeklists</th>\n",
       "      <td>20000.0</td>\n",
       "      <td>244.243000</td>\n",
       "      <td>1079.125263</td>\n",
       "      <td>0.0</td>\n",
       "      <td>24.00000</td>\n",
       "      <td>59.000000</td>\n",
       "      <td>178.000000</td>\n",
       "      <td>1.212430e+05</td>\n",
       "    </tr>\n",
       "    <tr>\n",
       "      <th>numtrading</th>\n",
       "      <td>20000.0</td>\n",
       "      <td>40.097900</td>\n",
       "      <td>94.094807</td>\n",
       "      <td>0.0</td>\n",
       "      <td>4.00000</td>\n",
       "      <td>12.000000</td>\n",
       "      <td>35.000000</td>\n",
       "      <td>2.311000e+03</td>\n",
       "    </tr>\n",
       "    <tr>\n",
       "      <th>numwanting</th>\n",
       "      <td>20000.0</td>\n",
       "      <td>39.376050</td>\n",
       "      <td>113.503485</td>\n",
       "      <td>0.0</td>\n",
       "      <td>2.00000</td>\n",
       "      <td>8.000000</td>\n",
       "      <td>26.000000</td>\n",
       "      <td>2.068000e+03</td>\n",
       "    </tr>\n",
       "    <tr>\n",
       "      <th>numcomments</th>\n",
       "      <td>20000.0</td>\n",
       "      <td>191.515100</td>\n",
       "      <td>606.892077</td>\n",
       "      <td>0.0</td>\n",
       "      <td>21.00000</td>\n",
       "      <td>44.000000</td>\n",
       "      <td>122.000000</td>\n",
       "      <td>1.714300e+04</td>\n",
       "    </tr>\n",
       "    <tr>\n",
       "      <th>siteviews</th>\n",
       "      <td>20000.0</td>\n",
       "      <td>76323.533500</td>\n",
       "      <td>225239.342630</td>\n",
       "      <td>183.0</td>\n",
       "      <td>11634.50000</td>\n",
       "      <td>23660.500000</td>\n",
       "      <td>57919.750000</td>\n",
       "      <td>8.933078e+06</td>\n",
       "    </tr>\n",
       "    <tr>\n",
       "      <th>numplays</th>\n",
       "      <td>20000.0</td>\n",
       "      <td>2304.163050</td>\n",
       "      <td>13625.576506</td>\n",
       "      <td>0.0</td>\n",
       "      <td>55.00000</td>\n",
       "      <td>177.000000</td>\n",
       "      <td>703.250000</td>\n",
       "      <td>6.275010e+05</td>\n",
       "    </tr>\n",
       "    <tr>\n",
       "      <th>numplays_month</th>\n",
       "      <td>20000.0</td>\n",
       "      <td>16.018050</td>\n",
       "      <td>111.374578</td>\n",
       "      <td>0.0</td>\n",
       "      <td>0.00000</td>\n",
       "      <td>0.000000</td>\n",
       "      <td>3.000000</td>\n",
       "      <td>5.694000e+03</td>\n",
       "    </tr>\n",
       "    <tr>\n",
       "      <th>news</th>\n",
       "      <td>20000.0</td>\n",
       "      <td>0.518000</td>\n",
       "      <td>1.282754</td>\n",
       "      <td>0.0</td>\n",
       "      <td>0.00000</td>\n",
       "      <td>0.000000</td>\n",
       "      <td>1.000000</td>\n",
       "      <td>3.000000e+01</td>\n",
       "    </tr>\n",
       "    <tr>\n",
       "      <th>blogs</th>\n",
       "      <td>20000.0</td>\n",
       "      <td>10.146900</td>\n",
       "      <td>38.772952</td>\n",
       "      <td>0.0</td>\n",
       "      <td>0.00000</td>\n",
       "      <td>1.000000</td>\n",
       "      <td>6.000000</td>\n",
       "      <td>1.158000e+03</td>\n",
       "    </tr>\n",
       "    <tr>\n",
       "      <th>weblink</th>\n",
       "      <td>20000.0</td>\n",
       "      <td>6.255150</td>\n",
       "      <td>11.053866</td>\n",
       "      <td>0.0</td>\n",
       "      <td>1.00000</td>\n",
       "      <td>3.000000</td>\n",
       "      <td>7.000000</td>\n",
       "      <td>2.120000e+02</td>\n",
       "    </tr>\n",
       "    <tr>\n",
       "      <th>podcast</th>\n",
       "      <td>20000.0</td>\n",
       "      <td>1.943050</td>\n",
       "      <td>7.956222</td>\n",
       "      <td>0.0</td>\n",
       "      <td>0.00000</td>\n",
       "      <td>0.000000</td>\n",
       "      <td>1.000000</td>\n",
       "      <td>5.770000e+02</td>\n",
       "    </tr>\n",
       "  </tbody>\n",
       "</table>\n",
       "</div>"
      ],
      "text/plain": [
       "                          count          mean            std     min  \\\n",
       "objectid                20000.0  88667.615000   90640.919590     1.0   \n",
       "yearpublished           20000.0   1981.268700     219.223277 -3500.0   \n",
       "sortindex               20000.0  10000.500000    5773.647028     1.0   \n",
       "minplayers              20000.0      2.055250       0.745537     0.0   \n",
       "maxplayers              20000.0      5.592150      15.049210     0.0   \n",
       "minplaytime             20000.0     68.096450     466.502106     0.0   \n",
       "maxplaytime             20000.0     94.289450    1005.751960     0.0   \n",
       "minage                  20000.0      9.476350       3.738842     0.0   \n",
       "boardgamedesigner_cnt   20000.0      1.339200       0.787003     0.0   \n",
       "boardgameartist_cnt     20000.0      1.379250       4.768926     0.0   \n",
       "boardgamepublisher_cnt  20000.0      2.500100       5.082961     1.0   \n",
       "boardgamehonor_cnt      20000.0      0.436000       1.609824     0.0   \n",
       "boardgamecategory_cnt   20000.0      2.568050       1.366515     0.0   \n",
       "boardgamemechanic_cnt   20000.0      2.306900       1.707764     0.0   \n",
       "boardgameexpansion_cnt  20000.0      1.185750       6.809425     0.0   \n",
       "boardgameversion_cnt    20000.0      3.392800      12.317236     0.0   \n",
       "boardgamefamily_cnt     20000.0      1.429500       1.728375     0.0   \n",
       "min_community           14141.0      3.203522       1.398935     1.0   \n",
       "max_community           14803.0      4.277917       2.155624     1.0   \n",
       "totalvotes              19904.0     13.464480      57.215368     0.0   \n",
       "languagedependence      20000.0      1.354650       1.397130     0.0   \n",
       "usersrated              19903.0    740.719389    3102.350251     0.0   \n",
       "average                 19903.0      6.275235       1.064903     0.0   \n",
       "baverage                19904.0      5.297634       1.494510     0.0   \n",
       "stddev                  20000.0      1.499691       0.340743     0.0   \n",
       "avgweight               20000.0      1.931761       0.897206     0.0   \n",
       "numweights              20000.0     48.059050     198.113638     0.0   \n",
       "numgeeklists            20000.0    244.243000    1079.125263     0.0   \n",
       "numtrading              20000.0     40.097900      94.094807     0.0   \n",
       "numwanting              20000.0     39.376050     113.503485     0.0   \n",
       "numcomments             20000.0    191.515100     606.892077     0.0   \n",
       "siteviews               20000.0  76323.533500  225239.342630   183.0   \n",
       "numplays                20000.0   2304.163050   13625.576506     0.0   \n",
       "numplays_month          20000.0     16.018050     111.374578     0.0   \n",
       "news                    20000.0      0.518000       1.282754     0.0   \n",
       "blogs                   20000.0     10.146900      38.772952     0.0   \n",
       "weblink                 20000.0      6.255150      11.053866     0.0   \n",
       "podcast                 20000.0      1.943050       7.956222     0.0   \n",
       "\n",
       "                                25%           50%            75%           max  \n",
       "objectid                 5858.75000  39278.500000  169680.500000  2.957700e+05  \n",
       "yearpublished            1997.00000   2008.000000    2015.000000  2.021000e+03  \n",
       "sortindex                5000.75000  10000.500000   15000.250000  2.000000e+04  \n",
       "minplayers                  2.00000      2.000000       2.000000  1.000000e+01  \n",
       "maxplayers                  4.00000      4.000000       6.000000  9.990000e+02  \n",
       "minplaytime                20.00000     30.000000      60.000000  6.000000e+04  \n",
       "maxplaytime                30.00000     45.000000      90.000000  1.200000e+05  \n",
       "minage                      8.00000     10.000000      12.000000  2.500000e+01  \n",
       "boardgamedesigner_cnt       1.00000      1.000000       2.000000  2.100000e+01  \n",
       "boardgameartist_cnt         0.00000      1.000000       2.000000  5.080000e+02  \n",
       "boardgamepublisher_cnt      1.00000      1.000000       2.000000  1.740000e+02  \n",
       "boardgamehonor_cnt          0.00000      0.000000       0.000000  5.000000e+01  \n",
       "boardgamecategory_cnt       2.00000      2.000000       3.000000  1.400000e+01  \n",
       "boardgamemechanic_cnt       1.00000      2.000000       3.000000  1.800000e+01  \n",
       "boardgameexpansion_cnt      0.00000      0.000000       0.000000  4.440000e+02  \n",
       "boardgameversion_cnt        1.00000      2.000000       3.000000  1.002000e+03  \n",
       "boardgamefamily_cnt         0.00000      1.000000       2.000000  8.600000e+01  \n",
       "min_community               2.00000      3.000000       4.000000  3.100000e+01  \n",
       "max_community               3.00000      4.000000       5.000000  3.100000e+01  \n",
       "totalvotes                  1.00000      3.000000       7.000000  1.868000e+03  \n",
       "languagedependence          0.00000      1.000000       2.000000  5.000000e+00  \n",
       "usersrated                 47.00000    105.000000     334.000000  9.073000e+04  \n",
       "average                     5.71255      6.354030       6.955685  9.442860e+00  \n",
       "baverage                    5.50298      5.545145       5.675205  8.584240e+00  \n",
       "stddev                      1.30992      1.471575       1.663782  4.500000e+00  \n",
       "avgweight                   1.25505      1.910900       2.500000  5.000000e+00  \n",
       "numweights                  4.00000      9.000000      25.000000  7.104000e+03  \n",
       "numgeeklists               24.00000     59.000000     178.000000  1.212430e+05  \n",
       "numtrading                  4.00000     12.000000      35.000000  2.311000e+03  \n",
       "numwanting                  2.00000      8.000000      26.000000  2.068000e+03  \n",
       "numcomments                21.00000     44.000000     122.000000  1.714300e+04  \n",
       "siteviews               11634.50000  23660.500000   57919.750000  8.933078e+06  \n",
       "numplays                   55.00000    177.000000     703.250000  6.275010e+05  \n",
       "numplays_month              0.00000      0.000000       3.000000  5.694000e+03  \n",
       "news                        0.00000      0.000000       1.000000  3.000000e+01  \n",
       "blogs                       0.00000      1.000000       6.000000  1.158000e+03  \n",
       "weblink                     1.00000      3.000000       7.000000  2.120000e+02  \n",
       "podcast                     0.00000      0.000000       1.000000  5.770000e+02  "
      ]
     },
     "execution_count": 21,
     "metadata": {},
     "output_type": "execute_result"
    }
   ],
   "source": [
    "# informações de estatísticas descritivas\n",
    "df.describe().T"
   ]
  },
  {
   "cell_type": "markdown",
   "metadata": {},
   "source": [
    "*Observações:*\n",
    "\n",
    "- Nota-se valores incongruentes em **yearpublished**, pois possui valores negativos.<br>\n",
    "- No geral, as **colunas apresentam alta variância.**<br>\n",
    "- O valor do desvio padrão de **siteviews** é extremamaente alto, o que indica uma alta variância desses dados."
   ]
  },
  {
   "cell_type": "code",
   "execution_count": 8,
   "metadata": {},
   "outputs": [
    {
     "data": {
      "text/plain": [
       "Unnamed: 0                   0\n",
       "objectid                     0\n",
       "name                         0\n",
       "yearpublished                0\n",
       "sortindex                    0\n",
       "minplayers                   0\n",
       "maxplayers                   0\n",
       "minplaytime                  0\n",
       "maxplaytime                  0\n",
       "minage                       0\n",
       "label                        0\n",
       "boardgamedesigner_cnt        0\n",
       "boardgameartist_cnt          0\n",
       "boardgamepublisher_cnt       0\n",
       "boardgamehonor_cnt           0\n",
       "boardgamecategory_cnt        0\n",
       "boardgamemechanic_cnt        0\n",
       "boardgameexpansion_cnt       0\n",
       "boardgameversion_cnt         0\n",
       "boardgamefamily_cnt          0\n",
       "boardgamedesigner            0\n",
       "boardgameartist              0\n",
       "boardgamepublisher           0\n",
       "boardgamehonor               0\n",
       "boardgamecategory            0\n",
       "boardgameversion             0\n",
       "boardgamemechanic            0\n",
       "boardgameexpansion           0\n",
       "boardgamefamily              0\n",
       "gamelink                     0\n",
       "min_community             5859\n",
       "max_community             5197\n",
       "totalvotes                  96\n",
       "playerage                   97\n",
       "languagedependence           0\n",
       "usersrated                  97\n",
       "average                     97\n",
       "baverage                    96\n",
       "stddev                       0\n",
       "avgweight                    0\n",
       "numweights                   0\n",
       "numgeeklists                 0\n",
       "numtrading                   0\n",
       "numwanting                   0\n",
       "numcomments                  0\n",
       "siteviews                    0\n",
       "numplays                     0\n",
       "numplays_month               0\n",
       "news                         0\n",
       "blogs                        0\n",
       "weblink                      0\n",
       "podcast                      0\n",
       "dtype: int64"
      ]
     },
     "execution_count": 8,
     "metadata": {},
     "output_type": "execute_result"
    }
   ],
   "source": [
    "df.isnull().sum()"
   ]
  },
  {
   "cell_type": "markdown",
   "metadata": {},
   "source": [
    "Temos valores ausentes nas seguintes colunas: **min_community**, **max_community**, **totalvotes**, **playerage**, **usersrated**, **average** e **baverage**"
   ]
  },
  {
   "cell_type": "code",
   "execution_count": 9,
   "metadata": {},
   "outputs": [
    {
     "data": {
      "text/plain": [
       "Unnamed: 0                20000\n",
       "objectid                  20000\n",
       "name                      19546\n",
       "yearpublished               190\n",
       "sortindex                 20000\n",
       "minplayers                   11\n",
       "maxplayers                   53\n",
       "minplaytime                  87\n",
       "maxplaytime                 109\n",
       "minage                       22\n",
       "label                         1\n",
       "boardgamedesigner_cnt        15\n",
       "boardgameartist_cnt          59\n",
       "boardgamepublisher_cnt       76\n",
       "boardgamehonor_cnt           32\n",
       "boardgamecategory_cnt        15\n",
       "boardgamemechanic_cnt        17\n",
       "boardgameexpansion_cnt       87\n",
       "boardgameversion_cnt        108\n",
       "boardgamefamily_cnt          31\n",
       "boardgamedesigner          8552\n",
       "boardgameartist           10794\n",
       "boardgamepublisher        10006\n",
       "boardgamehonor             2582\n",
       "boardgamecategory          6401\n",
       "boardgameversion           7893\n",
       "boardgamemechanic          6456\n",
       "boardgameexpansion         4305\n",
       "boardgamefamily            9746\n",
       "gamelink                  20000\n",
       "min_community                17\n",
       "max_community                25\n",
       "totalvotes                  359\n",
       "playerage                    76\n",
       "languagedependence            6\n",
       "usersrated                 2782\n",
       "average                   17844\n",
       "baverage                  14445\n",
       "stddev                    17637\n",
       "avgweight                  3645\n",
       "numweights                  742\n",
       "numgeeklists               1749\n",
       "numtrading                  563\n",
       "numwanting                  653\n",
       "numcomments                1544\n",
       "siteviews                 17467\n",
       "numplays                   4068\n",
       "numplays_month              449\n",
       "news                         22\n",
       "blogs                       307\n",
       "weblink                     120\n",
       "podcast                      95\n",
       "dtype: int64"
      ]
     },
     "execution_count": 9,
     "metadata": {},
     "output_type": "execute_result"
    }
   ],
   "source": [
    "# identificando valores únicos por coluna\n",
    "df.nunique()"
   ]
  },
  {
   "cell_type": "markdown",
   "metadata": {},
   "source": [
    "*Observações:*\n",
    "\n",
    "- Colunas com quantidades muito elevadas de valores únicos podem ser consideradas contínuas, ao passo que outras com uma quantidade muito pequena podem ser consideradas categóricas.\n",
    "- Estão sendo analisados **19546 jogos diferentes.**"
   ]
  },
  {
   "cell_type": "code",
   "execution_count": 10,
   "metadata": {},
   "outputs": [
    {
     "name": "stdout",
     "output_type": "stream",
     "text": [
      "<class 'pandas.core.frame.DataFrame'>\n",
      "RangeIndex: 20000 entries, 0 to 19999\n",
      "Data columns (total 52 columns):\n",
      " #   Column                  Non-Null Count  Dtype  \n",
      "---  ------                  --------------  -----  \n",
      " 0   Unnamed: 0              20000 non-null  int64  \n",
      " 1   objectid                20000 non-null  int64  \n",
      " 2   name                    20000 non-null  object \n",
      " 3   yearpublished           20000 non-null  int64  \n",
      " 4   sortindex               20000 non-null  int64  \n",
      " 5   minplayers              20000 non-null  int64  \n",
      " 6   maxplayers              20000 non-null  int64  \n",
      " 7   minplaytime             20000 non-null  int64  \n",
      " 8   maxplaytime             20000 non-null  int64  \n",
      " 9   minage                  20000 non-null  int64  \n",
      " 10  label                   20000 non-null  object \n",
      " 11  boardgamedesigner_cnt   20000 non-null  int64  \n",
      " 12  boardgameartist_cnt     20000 non-null  int64  \n",
      " 13  boardgamepublisher_cnt  20000 non-null  int64  \n",
      " 14  boardgamehonor_cnt      20000 non-null  int64  \n",
      " 15  boardgamecategory_cnt   20000 non-null  int64  \n",
      " 16  boardgamemechanic_cnt   20000 non-null  int64  \n",
      " 17  boardgameexpansion_cnt  20000 non-null  int64  \n",
      " 18  boardgameversion_cnt    20000 non-null  int64  \n",
      " 19  boardgamefamily_cnt     20000 non-null  int64  \n",
      " 20  boardgamedesigner       20000 non-null  object \n",
      " 21  boardgameartist         20000 non-null  object \n",
      " 22  boardgamepublisher      20000 non-null  object \n",
      " 23  boardgamehonor          20000 non-null  object \n",
      " 24  boardgamecategory       20000 non-null  object \n",
      " 25  boardgameversion        20000 non-null  object \n",
      " 26  boardgamemechanic       20000 non-null  object \n",
      " 27  boardgameexpansion      20000 non-null  object \n",
      " 28  boardgamefamily         20000 non-null  object \n",
      " 29  gamelink                20000 non-null  object \n",
      " 30  min_community           14141 non-null  float64\n",
      " 31  max_community           14803 non-null  float64\n",
      " 32  totalvotes              19904 non-null  float64\n",
      " 33  playerage               19903 non-null  object \n",
      " 34  languagedependence      20000 non-null  int64  \n",
      " 35  usersrated              19903 non-null  float64\n",
      " 36  average                 19903 non-null  float64\n",
      " 37  baverage                19904 non-null  float64\n",
      " 38  stddev                  20000 non-null  float64\n",
      " 39  avgweight               20000 non-null  float64\n",
      " 40  numweights              20000 non-null  int64  \n",
      " 41  numgeeklists            20000 non-null  int64  \n",
      " 42  numtrading              20000 non-null  int64  \n",
      " 43  numwanting              20000 non-null  int64  \n",
      " 44  numcomments             20000 non-null  int64  \n",
      " 45  siteviews               20000 non-null  int64  \n",
      " 46  numplays                20000 non-null  int64  \n",
      " 47  numplays_month          20000 non-null  int64  \n",
      " 48  news                    20000 non-null  int64  \n",
      " 49  blogs                   20000 non-null  int64  \n",
      " 50  weblink                 20000 non-null  int64  \n",
      " 51  podcast                 20000 non-null  int64  \n",
      "dtypes: float64(8), int64(31), object(13)\n",
      "memory usage: 7.9+ MB\n"
     ]
    }
   ],
   "source": [
    "df.info()"
   ]
  },
  {
   "cell_type": "markdown",
   "metadata": {},
   "source": [
    "A coluna **playerage** deveria possuir dados númericos, mas apresenta dados do tipo objeto, portanto, isso deve ser envestigado."
   ]
  },
  {
   "cell_type": "code",
   "execution_count": 11,
   "metadata": {},
   "outputs": [],
   "source": [
    "# preenchendo valores do tipo '(no votes)' com nan para ser possível uma análise numérica\n",
    "df.loc[df.playerage == '(no votes)', 'playerage'] = np.nan"
   ]
  },
  {
   "cell_type": "markdown",
   "metadata": {},
   "source": [
    "Existem alguns dados em unicode que devem ser transformados para texto comum"
   ]
  },
  {
   "cell_type": "code",
   "execution_count": 12,
   "metadata": {},
   "outputs": [],
   "source": [
    "# decodificando valores do tipo unicode\n",
    "for linha in range(df.shape[0]):\n",
    "\n",
    "    if type(df.playerage[linha]) is str:\n",
    "        df.playerage[linha] = df.playerage[linha].encode().decode('unicode-escape') "
   ]
  },
  {
   "cell_type": "markdown",
   "metadata": {},
   "source": [
    "## 2. Explorando os dados"
   ]
  },
  {
   "cell_type": "markdown",
   "metadata": {},
   "source": [
    "### Análise de correlações"
   ]
  },
  {
   "cell_type": "markdown",
   "metadata": {},
   "source": [
    "Primeiro, escolheremos as **variáveis alvo**, ou seja, escolheremos aquelas variáveis que possuem mais peso para o modelo de negócio.\n",
    "\n",
    "*Variáveis Alvo:*\n",
    "\n",
    "- 'numwanting': quanto mais pessoas desejam um jogo, maior a probabilidade desse jogo ser vendido.\n",
    "- 'numtrading': um jogo com alto número de vendas indica que deve receber o foco de campanhas de marketing, pois possui maior probabilidade de ser vendido novamente"
   ]
  },
  {
   "cell_type": "markdown",
   "metadata": {},
   "source": [
    "**Objetivo:** Encontrar as variáveis que melhor se relacionam com as nossas variáveis alvo. Assim, poderemos aprofundar melhor as análises nessas variáveis que causam maior impacto no modelo de negócio."
   ]
  },
  {
   "cell_type": "code",
   "execution_count": 22,
   "metadata": {},
   "outputs": [],
   "source": [
    "# utilizando apenas as colunas numericas\n",
    "colunas_numericas = df.select_dtypes(include = ['int64', 'float64']).columns\n",
    "\n",
    "# criando uma matriz de correlação\n",
    "matriz_correlaçao = df[colunas_numericas].corr()"
   ]
  },
  {
   "cell_type": "markdown",
   "metadata": {},
   "source": [
    "Algumas colunas não fazem muito sentido para análise, a exemplo de obectid, pois são valores únicos e não agregam valor. Esses valores serão dropados."
   ]
  },
  {
   "cell_type": "code",
   "execution_count": 23,
   "metadata": {},
   "outputs": [],
   "source": [
    "# dropando valores que não agregam valor para a análise\n",
    "matriz_correlaçao.drop(columns = ['objectid', 'weblink', 'podcast'], inplace = True)"
   ]
  },
  {
   "cell_type": "code",
   "execution_count": 24,
   "metadata": {},
   "outputs": [
    {
     "data": {
      "image/png": "[encoded data removed]",
      "text/plain": [
       "<Figure size 1300x1300 with 2 Axes>"
      ]
     },
     "metadata": {},
     "output_type": "display_data"
    }
   ],
   "source": [
    "# ajustando o tamanho da figura\n",
    "plt.figure(figsize = (13, 13))\n",
    "\n",
    "# plotando em um grafico\n",
    "sns.heatmap(data = matriz_correlaçao, cmap = 'coolwarm')\n",
    "\n",
    "plt.show()"
   ]
  },
  {
   "cell_type": "markdown",
   "metadata": {},
   "source": [
    "*Observações:*\n",
    "\n",
    "- Nota-se que algumas variáveis possuem alta correlação com outras variáveis.<br>\n",
    "- Iremos observar melhor essas relações em uma abordagem mais aprofundada."
   ]
  },
  {
   "cell_type": "markdown",
   "metadata": {},
   "source": [
    "## 3. Aprofundamento e direcionamento da análise"
   ]
  },
  {
   "cell_type": "markdown",
   "metadata": {},
   "source": [
    "### Análise das variáveis numéricas"
   ]
  },
  {
   "cell_type": "markdown",
   "metadata": {},
   "source": [
    "**Objetivo:** explorar mais aprofundadamente as variáveis que melhor se relacionam com nossas variáveis alvo.\n",
    "\n",
    "**Variáveis selecionadas:** 'sortindex', 'blogs', 'news', 'numplays_month', 'numweights', 'numgeeklists', 'numcomments', 'siteviews', 'numplays', 'baverage', 'average', 'usersrated', 'totalvotes', 'boardgamemechanic_cnt', 'boardgamehonor_cnt', 'boardgameexpansion', 'boardgamepublisher' e 'sortindex'."
   ]
  },
  {
   "cell_type": "code",
   "execution_count": 26,
   "metadata": {},
   "outputs": [
    {
     "data": {
      "application/vnd.plotly.v1+json": {
       "config": {
        "plotlyServerURL": "https://plot.ly"
       },
       "data": [
        {
         "dimensions": [
          {
           "axis": {
            "matches": true
           },
           "label": "sortindex",
           "values": [
            -0.32772117793574956,
            -0.08847428731831455,
            1,
            0.11057425944228677,
            0.017228290976008972,
            -0.01584726107749662,
            -0.02450250429684731,
            -0.21679512118552113,
            -0.0979034474605417,
            -0.1265287240589532,
            -0.11473064540644977,
            -0.3161220505312687,
            -0.09512831013833478,
            -0.39206252131651076,
            -0.19194618311376815,
            -0.05180395185035792,
            -0.223957414610268,
            0.020651426352532337,
            -0.0038989199470165414,
            -0.3063885504083703,
            -0.2869094295547917,
            -0.30602301815653343,
            -0.6985067161608672,
            -0.5765318560564434,
            0.20442721871161473,
            -0.41980236649151464,
            -0.28571465315916367,
            -0.24561934312529005,
            -0.38992501682258224,
            -0.44309804072905645,
            -0.3561796936845759,
            -0.36081046992191795,
            -0.24106412995879498,
            -0.20759804233434268,
            -0.4024462304137448,
            -0.3447003925348887,
            -0.44901013294081776,
            -0.3233827778260659
           ]
          },
          {
           "axis": {
            "matches": true
           },
           "label": "numwanting",
           "values": [
            0.09709648393096612,
            0.03841675805412565,
            -0.44309804072905645,
            -0.07831159526385977,
            -0.015271356896660105,
            0.007908446921239591,
            0.008814680423143586,
            0.14492085197150537,
            0.05251262733242209,
            0.09007490362896124,
            0.2096856528162473,
            0.6396862673749879,
            0.10501811463534914,
            0.3717292229842438,
            0.1888594077757383,
            0.1238883090638053,
            0.2264363765185726,
            0.027601919865837727,
            0.014655395220945684,
            0.7247496082603205,
            0.16849966041621156,
            0.6998434269289787,
            0.31465560603718,
            0.28609267068709165,
            -0.11245262010092073,
            0.24434539568807326,
            0.6128725165177942,
            0.42226473617899196,
            0.5303220262927454,
            1,
            0.6991528446241853,
            0.774586039818836,
            0.5495573364086429,
            0.507943744498339,
            0.5275415019253266,
            0.7386092796949645,
            0.627061948642507,
            0.6787457401792628
           ]
          },
          {
           "axis": {
            "matches": true
           },
           "label": "numtrading",
           "values": [
            -0.04823400484137648,
            0.030883298931436227,
            -0.38992501682258224,
            -0.004280385945521836,
            -0.007947716524431032,
            -0.0029015406258780523,
            -0.0042679231579972506,
            0.13045459685470756,
            0.057945131587740395,
            0.16336403433922173,
            0.2925617209582474,
            0.5711696387089727,
            0.12178203745434898,
            0.30535552092287815,
            0.2991607982494439,
            0.2274549400485266,
            0.1862495513122392,
            0.08106147399825059,
            0.06043806421287525,
            0.7486483808602474,
            0.20590476639405336,
            0.81166152862761,
            0.14797241007532105,
            0.250522995707719,
            -0.07138144506491308,
            0.14147316431330306,
            0.792398554523191,
            0.5843411012939651,
            1,
            0.5303220262927454,
            0.8603991441500786,
            0.7165095467558645,
            0.6578152300479037,
            0.31223652643200006,
            0.5557573347579475,
            0.6760453778828922,
            0.7604606238180589,
            0.6000282778204621
           ]
          }
         ],
         "hovertemplate": "%{xaxis.title.text}=%{x}<br>%{yaxis.title.text}=%{y}<extra></extra>",
         "legendgroup": "",
         "marker": {
          "color": "#636efa",
          "symbol": "circle"
         },
         "name": "",
         "showlegend": false,
         "type": "splom"
        }
       ],
       "layout": {
        "dragmode": "select",
        "legend": {
         "tracegroupgap": 0
        },
        "margin": {
         "t": 60
        },
        "template": {
         "data": {
          "bar": [
           {
            "error_x": {
             "color": "#2a3f5f"
            },
            "error_y": {
             "color": "#2a3f5f"
            },
            "marker": {
             "line": {
              "color": "#E5ECF6",
              "width": 0.5
             },
             "pattern": {
              "fillmode": "overlay",
              "size": 10,
              "solidity": 0.2
             }
            },
            "type": "bar"
           }
          ],
          "barpolar": [
           {
            "marker": {
             "line": {
              "color": "#E5ECF6",
              "width": 0.5
             },
             "pattern": {
              "fillmode": "overlay",
              "size": 10,
              "solidity": 0.2
             }
            },
            "type": "barpolar"
           }
          ],
          "carpet": [
           {
            "aaxis": {
             "endlinecolor": "#2a3f5f",
             "gridcolor": "white",
             "linecolor": "white",
             "minorgridcolor": "white",
             "startlinecolor": "#2a3f5f"
            },
            "baxis": {
             "endlinecolor": "#2a3f5f",
             "gridcolor": "white",
             "linecolor": "white",
             "minorgridcolor": "white",
             "startlinecolor": "#2a3f5f"
            },
            "type": "carpet"
           }
          ],
          "choropleth": [
           {
            "colorbar": {
             "outlinewidth": 0,
             "ticks": ""
            },
            "type": "choropleth"
           }
          ],
          "contour": [
           {
            "colorbar": {
             "outlinewidth": 0,
             "ticks": ""
            },
            "colorscale": [
             [
              0,
              "#0d0887"
             ],
             [
              0.1111111111111111,
              "#46039f"
             ],
             [
              0.2222222222222222,
              "#7201a8"
             ],
             [
              0.3333333333333333,
              "#9c179e"
             ],
             [
              0.4444444444444444,
              "#bd3786"
             ],
             [
              0.5555555555555556,
              "#d8576b"
             ],
             [
              0.6666666666666666,
              "#ed7953"
             ],
             [
              0.7777777777777778,
              "#fb9f3a"
             ],
             [
              0.8888888888888888,
              "#fdca26"
             ],
             [
              1,
              "#f0f921"
             ]
            ],
            "type": "contour"
           }
          ],
          "contourcarpet": [
           {
            "colorbar": {
             "outlinewidth": 0,
             "ticks": ""
            },
            "type": "contourcarpet"
           }
          ],
          "heatmap": [
           {
            "colorbar": {
             "outlinewidth": 0,
             "ticks": ""
            },
            "colorscale": [
             [
              0,
              "#0d0887"
             ],
             [
              0.1111111111111111,
              "#46039f"
             ],
             [
              0.2222222222222222,
              "#7201a8"
             ],
             [
              0.3333333333333333,
              "#9c179e"
             ],
             [
              0.4444444444444444,
              "#bd3786"
             ],
             [
              0.5555555555555556,
              "#d8576b"
             ],
             [
              0.6666666666666666,
              "#ed7953"
             ],
             [
              0.7777777777777778,
              "#fb9f3a"
             ],
             [
              0.8888888888888888,
              "#fdca26"
             ],
             [
              1,
              "#f0f921"
             ]
            ],
            "type": "heatmap"
           }
          ],
          "heatmapgl": [
           {
            "colorbar": {
             "outlinewidth": 0,
             "ticks": ""
            },
            "colorscale": [
             [
              0,
              "#0d0887"
             ],
             [
              0.1111111111111111,
              "#46039f"
             ],
             [
              0.2222222222222222,
              "#7201a8"
             ],
             [
              0.3333333333333333,
              "#9c179e"
             ],
             [
              0.4444444444444444,
              "#bd3786"
             ],
             [
              0.5555555555555556,
              "#d8576b"
             ],
             [
              0.6666666666666666,
              "#ed7953"
             ],
             [
              0.7777777777777778,
              "#fb9f3a"
             ],
             [
              0.8888888888888888,
              "#fdca26"
             ],
             [
              1,
              "#f0f921"
             ]
            ],
            "type": "heatmapgl"
           }
          ],
          "histogram": [
           {
            "marker": {
             "pattern": {
              "fillmode": "overlay",
              "size": 10,
              "solidity": 0.2
             }
            },
            "type": "histogram"
           }
          ],
          "histogram2d": [
           {
            "colorbar": {
             "outlinewidth": 0,
             "ticks": ""
            },
            "colorscale": [
             [
              0,
              "#0d0887"
             ],
             [
              0.1111111111111111,
              "#46039f"
             ],
             [
              0.2222222222222222,
              "#7201a8"
             ],
             [
              0.3333333333333333,
              "#9c179e"
             ],
             [
              0.4444444444444444,
              "#bd3786"
             ],
             [
              0.5555555555555556,
              "#d8576b"
             ],
             [
              0.6666666666666666,
              "#ed7953"
             ],
             [
              0.7777777777777778,
              "#fb9f3a"
             ],
             [
              0.8888888888888888,
              "#fdca26"
             ],
             [
              1,
              "#f0f921"
             ]
            ],
            "type": "histogram2d"
           }
          ],
          "histogram2dcontour": [
           {
            "colorbar": {
             "outlinewidth": 0,
             "ticks": ""
            },
            "colorscale": [
             [
              0,
              "#0d0887"
             ],
             [
              0.1111111111111111,
              "#46039f"
             ],
             [
              0.2222222222222222,
              "#7201a8"
             ],
             [
              0.3333333333333333,
              "#9c179e"
             ],
             [
              0.4444444444444444,
              "#bd3786"
             ],
             [
              0.5555555555555556,
              "#d8576b"
             ],
             [
              0.6666666666666666,
              "#ed7953"
             ],
             [
              0.7777777777777778,
              "#fb9f3a"
             ],
             [
              0.8888888888888888,
              "#fdca26"
             ],
             [
              1,
              "#f0f921"
             ]
            ],
            "type": "histogram2dcontour"
           }
          ],
          "mesh3d": [
           {
            "colorbar": {
             "outlinewidth": 0,
             "ticks": ""
            },
            "type": "mesh3d"
           }
          ],
          "parcoords": [
           {
            "line": {
             "colorbar": {
              "outlinewidth": 0,
              "ticks": ""
             }
            },
            "type": "parcoords"
           }
          ],
          "pie": [
           {
            "automargin": true,
            "type": "pie"
           }
          ],
          "scatter": [
           {
            "fillpattern": {
             "fillmode": "overlay",
             "size": 10,
             "solidity": 0.2
            },
            "type": "scatter"
           }
          ],
          "scatter3d": [
           {
            "line": {
             "colorbar": {
              "outlinewidth": 0,
              "ticks": ""
             }
            },
            "marker": {
             "colorbar": {
              "outlinewidth": 0,
              "ticks": ""
             }
            },
            "type": "scatter3d"
           }
          ],
          "scattercarpet": [
           {
            "marker": {
             "colorbar": {
              "outlinewidth": 0,
              "ticks": ""
             }
            },
            "type": "scattercarpet"
           }
          ],
          "scattergeo": [
           {
            "marker": {
             "colorbar": {
              "outlinewidth": 0,
              "ticks": ""
             }
            },
            "type": "scattergeo"
           }
          ],
          "scattergl": [
           {
            "marker": {
             "colorbar": {
              "outlinewidth": 0,
              "ticks": ""
             }
            },
            "type": "scattergl"
           }
          ],
          "scattermapbox": [
           {
            "marker": {
             "colorbar": {
              "outlinewidth": 0,
              "ticks": ""
             }
            },
            "type": "scattermapbox"
           }
          ],
          "scatterpolar": [
           {
            "marker": {
             "colorbar": {
              "outlinewidth": 0,
              "ticks": ""
             }
            },
            "type": "scatterpolar"
           }
          ],
          "scatterpolargl": [
           {
            "marker": {
             "colorbar": {
              "outlinewidth": 0,
              "ticks": ""
             }
            },
            "type": "scatterpolargl"
           }
          ],
          "scatterternary": [
           {
            "marker": {
             "colorbar": {
              "outlinewidth": 0,
              "ticks": ""
             }
            },
            "type": "scatterternary"
           }
          ],
          "surface": [
           {
            "colorbar": {
             "outlinewidth": 0,
             "ticks": ""
            },
            "colorscale": [
             [
              0,
              "#0d0887"
             ],
             [
              0.1111111111111111,
              "#46039f"
             ],
             [
              0.2222222222222222,
              "#7201a8"
             ],
             [
              0.3333333333333333,
              "#9c179e"
             ],
             [
              0.4444444444444444,
              "#bd3786"
             ],
             [
              0.5555555555555556,
              "#d8576b"
             ],
             [
              0.6666666666666666,
              "#ed7953"
             ],
             [
              0.7777777777777778,
              "#fb9f3a"
             ],
             [
              0.8888888888888888,
              "#fdca26"
             ],
             [
              1,
              "#f0f921"
             ]
            ],
            "type": "surface"
           }
          ],
          "table": [
           {
            "cells": {
             "fill": {
              "color": "#EBF0F8"
             },
             "line": {
              "color": "white"
             }
            },
            "header": {
             "fill": {
              "color": "#C8D4E3"
             },
             "line": {
              "color": "white"
             }
            },
            "type": "table"
           }
          ]
         },
         "layout": {
          "annotationdefaults": {
           "arrowcolor": "#2a3f5f",
           "arrowhead": 0,
           "arrowwidth": 1
          },
          "autotypenumbers": "strict",
          "coloraxis": {
           "colorbar": {
            "outlinewidth": 0,
            "ticks": ""
           }
          },
          "colorscale": {
           "diverging": [
            [
             0,
             "#8e0152"
            ],
            [
             0.1,
             "#c51b7d"
            ],
            [
             0.2,
             "#de77ae"
            ],
            [
             0.3,
             "#f1b6da"
            ],
            [
             0.4,
             "#fde0ef"
            ],
            [
             0.5,
             "#f7f7f7"
            ],
            [
             0.6,
             "#e6f5d0"
            ],
            [
             0.7,
             "#b8e186"
            ],
            [
             0.8,
             "#7fbc41"
            ],
            [
             0.9,
             "#4d9221"
            ],
            [
             1,
             "#276419"
            ]
           ],
           "sequential": [
            [
             0,
             "#0d0887"
            ],
            [
             0.1111111111111111,
             "#46039f"
            ],
            [
             0.2222222222222222,
             "#7201a8"
            ],
            [
             0.3333333333333333,
             "#9c179e"
            ],
            [
             0.4444444444444444,
             "#bd3786"
            ],
            [
             0.5555555555555556,
             "#d8576b"
            ],
            [
             0.6666666666666666,
             "#ed7953"
            ],
            [
             0.7777777777777778,
             "#fb9f3a"
            ],
            [
             0.8888888888888888,
             "#fdca26"
            ],
            [
             1,
             "#f0f921"
            ]
           ],
           "sequentialminus": [
            [
             0,
             "#0d0887"
            ],
            [
             0.1111111111111111,
             "#46039f"
            ],
            [
             0.2222222222222222,
             "#7201a8"
            ],
            [
             0.3333333333333333,
             "#9c179e"
            ],
            [
             0.4444444444444444,
             "#bd3786"
            ],
            [
             0.5555555555555556,
             "#d8576b"
            ],
            [
             0.6666666666666666,
             "#ed7953"
            ],
            [
             0.7777777777777778,
             "#fb9f3a"
            ],
            [
             0.8888888888888888,
             "#fdca26"
            ],
            [
             1,
             "#f0f921"
            ]
           ]
          },
          "colorway": [
           "#636efa",
           "#EF553B",
           "#00cc96",
           "#ab63fa",
           "#FFA15A",
           "#19d3f3",
           "#FF6692",
           "#B6E880",
           "#FF97FF",
           "#FECB52"
          ],
          "font": {
           "color": "#2a3f5f"
          },
          "geo": {
           "bgcolor": "white",
           "lakecolor": "white",
           "landcolor": "#E5ECF6",
           "showlakes": true,
           "showland": true,
           "subunitcolor": "white"
          },
          "hoverlabel": {
           "align": "left"
          },
          "hovermode": "closest",
          "mapbox": {
           "style": "light"
          },
          "paper_bgcolor": "white",
          "plot_bgcolor": "#E5ECF6",
          "polar": {
           "angularaxis": {
            "gridcolor": "white",
            "linecolor": "white",
            "ticks": ""
           },
           "bgcolor": "#E5ECF6",
           "radialaxis": {
            "gridcolor": "white",
            "linecolor": "white",
            "ticks": ""
           }
          },
          "scene": {
           "xaxis": {
            "backgroundcolor": "#E5ECF6",
            "gridcolor": "white",
            "gridwidth": 2,
            "linecolor": "white",
            "showbackground": true,
            "ticks": "",
            "zerolinecolor": "white"
           },
           "yaxis": {
            "backgroundcolor": "#E5ECF6",
            "gridcolor": "white",
            "gridwidth": 2,
            "linecolor": "white",
            "showbackground": true,
            "ticks": "",
            "zerolinecolor": "white"
           },
           "zaxis": {
            "backgroundcolor": "#E5ECF6",
            "gridcolor": "white",
            "gridwidth": 2,
            "linecolor": "white",
            "showbackground": true,
            "ticks": "",
            "zerolinecolor": "white"
           }
          },
          "shapedefaults": {
           "line": {
            "color": "#2a3f5f"
           }
          },
          "ternary": {
           "aaxis": {
            "gridcolor": "white",
            "linecolor": "white",
            "ticks": ""
           },
           "baxis": {
            "gridcolor": "white",
            "linecolor": "white",
            "ticks": ""
           },
           "bgcolor": "#E5ECF6",
           "caxis": {
            "gridcolor": "white",
            "linecolor": "white",
            "ticks": ""
           }
          },
          "title": {
           "x": 0.05
          },
          "xaxis": {
           "automargin": true,
           "gridcolor": "white",
           "linecolor": "white",
           "ticks": "",
           "title": {
            "standoff": 15
           },
           "zerolinecolor": "white",
           "zerolinewidth": 2
          },
          "yaxis": {
           "automargin": true,
           "gridcolor": "white",
           "linecolor": "white",
           "ticks": "",
           "title": {
            "standoff": 15
           },
           "zerolinecolor": "white",
           "zerolinewidth": 2
          }
         }
        }
       }
      }
     },
     "metadata": {},
     "output_type": "display_data"
    }
   ],
   "source": [
    "# Criar o scatter plot\n",
    "fig = px.scatter_matrix(matriz_correlaçao[['sortindex', 'numwanting', 'numtrading']])\n",
    "\n",
    "# Mostrar o plot\n",
    "fig.show()"
   ]
  }
 ],
 "metadata": {
  "kernelspec": {
   "display_name": "Python 3",
   "language": "python",
   "name": "python3"
  },
  "language_info": {
   "codemirror_mode": {
    "name": "ipython",
    "version": 3
   },
   "file_extension": ".py",
   "mimetype": "text/x-python",
   "name": "python",
   "nbconvert_exporter": "python",
   "pygments_lexer": "ipython3",
   "version": "3.10.2"
  }
 },
 "nbformat": 4,
 "nbformat_minor": 2
}
